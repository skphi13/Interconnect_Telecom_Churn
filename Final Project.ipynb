{
 "cells": [
  {
   "cell_type": "markdown",
   "metadata": {},
   "source": [
    "## Interconnect Telecom Customer Churn Project\n",
    "\n",
    "<p>The objective of this project is to forecast customer churn for the telecom operator Interconnect, enabling targeted retention strategies such as promotional offers and customized plans. The analysis leverages data on customer demographics, contract details, and service usage, focusing on identifying patterns associated with churn. Key tasks include data preprocessing, exploratory analysis, feature engineering, and predictive modeling. The primary evaluation metric is AUC-ROC, with a baseline target of at least 0.85 to guide model performance.<p>\n",
    "    \n",
    "### Interconnect's services\n",
    "\n",
    "Interconnect mainly provides two types of services:\n",
    "\n",
    "    Landline communication. The telephone can be connected to several lines simultaneously.\n",
    "    Internet. The network can be set up via a telephone line (DSL, digital subscriber line) or through a fiber optic cable.\n",
    "\n",
    "Some other services the company provides include:\n",
    "\n",
    "    Internet security: antivirus software (DeviceProtection) and a malicious website blocker (OnlineSecurity)\n",
    "    A dedicated technical support line (TechSupport)\n",
    "    Cloud file storage and data backup (OnlineBackup)\n",
    "    TV streaming (StreamingTV) and a movie directory (StreamingMovies)\n",
    "\n",
    "The clients can choose either a monthly payment or sign a 1- or 2-year contract. They can use various payment methods and receive an electronic invoice after a transaction.\n",
    "### Data Description\n",
    "\n",
    "The data consists of files obtained from different sources:\n",
    "\n",
    "    contract.csv — contract information\n",
    "    personal.csv — the client's personal data\n",
    "    internet.csv — information about Internet services\n",
    "    phone.csv — information about telephone services\n",
    "\n",
    "In each file, the column customerID contains a unique code assigned to each client.\n",
    "\n",
    "The contract information is valid as of February 1, 2020."
   ]
  },
  {
   "cell_type": "code",
   "execution_count": 2,
   "metadata": {},
   "outputs": [
    {
     "name": "stdout",
     "output_type": "stream",
     "text": [
      "Requirement already satisfied: xgboost in /opt/anaconda3/lib/python3.12/site-packages (2.1.3)\n",
      "Requirement already satisfied: numpy in /opt/anaconda3/lib/python3.12/site-packages (from xgboost) (1.26.4)\n",
      "Requirement already satisfied: scipy in /opt/anaconda3/lib/python3.12/site-packages (from xgboost) (1.13.1)\n"
     ]
    }
   ],
   "source": [
    "!pip install xgboost"
   ]
  },
  {
   "cell_type": "code",
   "execution_count": 3,
   "metadata": {},
   "outputs": [],
   "source": [
    "# Library Imports\n",
    "import pandas as pd\n",
    "import seaborn as sns\n",
    "import matplotlib.pyplot as plt\n",
    "from sklearn.preprocessing import LabelEncoder, OneHotEncoder, StandardScaler\n",
    "from sklearn.model_selection import train_test_split, cross_val_score, GridSearchCV\n",
    "from sklearn.metrics import accuracy_score, roc_auc_score, roc_curve\n",
    "from sklearn.utils import shuffle\n",
    "from sklearn.linear_model import LogisticRegression\n",
    "from sklearn.ensemble import RandomForestClassifier\n",
    "from sklearn.ensemble import GradientBoostingClassifier\n",
    "import lightgbm as lgb\n",
    "import xgboost as xgb\n",
    "from catboost import CatBoostClassifier\n",
    "\n",
    "import warnings\n",
    "warnings.filterwarnings('ignore')\n"
   ]
  },
  {
   "cell_type": "code",
   "execution_count": 4,
   "metadata": {},
   "outputs": [],
   "source": [
    "# Reading and Loading Data as Pandas DataFrames\n",
    "try:\n",
    "    contract_df = pd.read_csv('final_provider/contract.csv')\n",
    "    personal_df = pd.read_csv('final_provider/personal.csv')\n",
    "    internet_df = pd.read_csv('final_provider/internet.csv')\n",
    "    phone_df = pd.read_csv('final_provider/phone.csv')\n",
    "except FileNotFoundError as e:\n",
    "    print(f\"Error loading data: {e}\")"
   ]
  },
  {
   "cell_type": "markdown",
   "metadata": {},
   "source": [
    "### Data Overview"
   ]
  },
  {
   "cell_type": "code",
   "execution_count": 6,
   "metadata": {},
   "outputs": [
    {
     "name": "stdout",
     "output_type": "stream",
     "text": [
      "<class 'pandas.core.frame.DataFrame'>\n",
      "RangeIndex: 7043 entries, 0 to 7042\n",
      "Data columns (total 8 columns):\n",
      " #   Column            Non-Null Count  Dtype  \n",
      "---  ------            --------------  -----  \n",
      " 0   customerID        7043 non-null   object \n",
      " 1   BeginDate         7043 non-null   object \n",
      " 2   EndDate           7043 non-null   object \n",
      " 3   Type              7043 non-null   object \n",
      " 4   PaperlessBilling  7043 non-null   object \n",
      " 5   PaymentMethod     7043 non-null   object \n",
      " 6   MonthlyCharges    7043 non-null   float64\n",
      " 7   TotalCharges      7043 non-null   object \n",
      "dtypes: float64(1), object(7)\n",
      "memory usage: 440.3+ KB\n"
     ]
    }
   ],
   "source": [
    "contract_df.info()"
   ]
  },
  {
   "cell_type": "code",
   "execution_count": 7,
   "metadata": {},
   "outputs": [
    {
     "data": {
      "text/html": [
       "<div>\n",
       "<style scoped>\n",
       "    .dataframe tbody tr th:only-of-type {\n",
       "        vertical-align: middle;\n",
       "    }\n",
       "\n",
       "    .dataframe tbody tr th {\n",
       "        vertical-align: top;\n",
       "    }\n",
       "\n",
       "    .dataframe thead th {\n",
       "        text-align: right;\n",
       "    }\n",
       "</style>\n",
       "<table border=\"1\" class=\"dataframe\">\n",
       "  <thead>\n",
       "    <tr style=\"text-align: right;\">\n",
       "      <th></th>\n",
       "      <th>customerID</th>\n",
       "      <th>BeginDate</th>\n",
       "      <th>EndDate</th>\n",
       "      <th>Type</th>\n",
       "      <th>PaperlessBilling</th>\n",
       "      <th>PaymentMethod</th>\n",
       "      <th>MonthlyCharges</th>\n",
       "      <th>TotalCharges</th>\n",
       "    </tr>\n",
       "  </thead>\n",
       "  <tbody>\n",
       "    <tr>\n",
       "      <th>0</th>\n",
       "      <td>7590-VHVEG</td>\n",
       "      <td>2020-01-01</td>\n",
       "      <td>No</td>\n",
       "      <td>Month-to-month</td>\n",
       "      <td>Yes</td>\n",
       "      <td>Electronic check</td>\n",
       "      <td>29.85</td>\n",
       "      <td>29.85</td>\n",
       "    </tr>\n",
       "    <tr>\n",
       "      <th>1</th>\n",
       "      <td>5575-GNVDE</td>\n",
       "      <td>2017-04-01</td>\n",
       "      <td>No</td>\n",
       "      <td>One year</td>\n",
       "      <td>No</td>\n",
       "      <td>Mailed check</td>\n",
       "      <td>56.95</td>\n",
       "      <td>1889.5</td>\n",
       "    </tr>\n",
       "    <tr>\n",
       "      <th>2</th>\n",
       "      <td>3668-QPYBK</td>\n",
       "      <td>2019-10-01</td>\n",
       "      <td>2019-12-01 00:00:00</td>\n",
       "      <td>Month-to-month</td>\n",
       "      <td>Yes</td>\n",
       "      <td>Mailed check</td>\n",
       "      <td>53.85</td>\n",
       "      <td>108.15</td>\n",
       "    </tr>\n",
       "    <tr>\n",
       "      <th>3</th>\n",
       "      <td>7795-CFOCW</td>\n",
       "      <td>2016-05-01</td>\n",
       "      <td>No</td>\n",
       "      <td>One year</td>\n",
       "      <td>No</td>\n",
       "      <td>Bank transfer (automatic)</td>\n",
       "      <td>42.30</td>\n",
       "      <td>1840.75</td>\n",
       "    </tr>\n",
       "    <tr>\n",
       "      <th>4</th>\n",
       "      <td>9237-HQITU</td>\n",
       "      <td>2019-09-01</td>\n",
       "      <td>2019-11-01 00:00:00</td>\n",
       "      <td>Month-to-month</td>\n",
       "      <td>Yes</td>\n",
       "      <td>Electronic check</td>\n",
       "      <td>70.70</td>\n",
       "      <td>151.65</td>\n",
       "    </tr>\n",
       "  </tbody>\n",
       "</table>\n",
       "</div>"
      ],
      "text/plain": [
       "   customerID   BeginDate              EndDate            Type  \\\n",
       "0  7590-VHVEG  2020-01-01                   No  Month-to-month   \n",
       "1  5575-GNVDE  2017-04-01                   No        One year   \n",
       "2  3668-QPYBK  2019-10-01  2019-12-01 00:00:00  Month-to-month   \n",
       "3  7795-CFOCW  2016-05-01                   No        One year   \n",
       "4  9237-HQITU  2019-09-01  2019-11-01 00:00:00  Month-to-month   \n",
       "\n",
       "  PaperlessBilling              PaymentMethod  MonthlyCharges TotalCharges  \n",
       "0              Yes           Electronic check           29.85        29.85  \n",
       "1               No               Mailed check           56.95       1889.5  \n",
       "2              Yes               Mailed check           53.85       108.15  \n",
       "3               No  Bank transfer (automatic)           42.30      1840.75  \n",
       "4              Yes           Electronic check           70.70       151.65  "
      ]
     },
     "execution_count": 7,
     "metadata": {},
     "output_type": "execute_result"
    }
   ],
   "source": [
    "contract_df.head()"
   ]
  },
  {
   "cell_type": "code",
   "execution_count": 8,
   "metadata": {},
   "outputs": [
    {
     "name": "stdout",
     "output_type": "stream",
     "text": [
      "<class 'pandas.core.frame.DataFrame'>\n",
      "RangeIndex: 7043 entries, 0 to 7042\n",
      "Data columns (total 5 columns):\n",
      " #   Column         Non-Null Count  Dtype \n",
      "---  ------         --------------  ----- \n",
      " 0   customerID     7043 non-null   object\n",
      " 1   gender         7043 non-null   object\n",
      " 2   SeniorCitizen  7043 non-null   int64 \n",
      " 3   Partner        7043 non-null   object\n",
      " 4   Dependents     7043 non-null   object\n",
      "dtypes: int64(1), object(4)\n",
      "memory usage: 275.2+ KB\n"
     ]
    }
   ],
   "source": [
    "personal_df.info()"
   ]
  },
  {
   "cell_type": "code",
   "execution_count": 9,
   "metadata": {},
   "outputs": [
    {
     "data": {
      "text/html": [
       "<div>\n",
       "<style scoped>\n",
       "    .dataframe tbody tr th:only-of-type {\n",
       "        vertical-align: middle;\n",
       "    }\n",
       "\n",
       "    .dataframe tbody tr th {\n",
       "        vertical-align: top;\n",
       "    }\n",
       "\n",
       "    .dataframe thead th {\n",
       "        text-align: right;\n",
       "    }\n",
       "</style>\n",
       "<table border=\"1\" class=\"dataframe\">\n",
       "  <thead>\n",
       "    <tr style=\"text-align: right;\">\n",
       "      <th></th>\n",
       "      <th>customerID</th>\n",
       "      <th>gender</th>\n",
       "      <th>SeniorCitizen</th>\n",
       "      <th>Partner</th>\n",
       "      <th>Dependents</th>\n",
       "    </tr>\n",
       "  </thead>\n",
       "  <tbody>\n",
       "    <tr>\n",
       "      <th>0</th>\n",
       "      <td>7590-VHVEG</td>\n",
       "      <td>Female</td>\n",
       "      <td>0</td>\n",
       "      <td>Yes</td>\n",
       "      <td>No</td>\n",
       "    </tr>\n",
       "    <tr>\n",
       "      <th>1</th>\n",
       "      <td>5575-GNVDE</td>\n",
       "      <td>Male</td>\n",
       "      <td>0</td>\n",
       "      <td>No</td>\n",
       "      <td>No</td>\n",
       "    </tr>\n",
       "    <tr>\n",
       "      <th>2</th>\n",
       "      <td>3668-QPYBK</td>\n",
       "      <td>Male</td>\n",
       "      <td>0</td>\n",
       "      <td>No</td>\n",
       "      <td>No</td>\n",
       "    </tr>\n",
       "    <tr>\n",
       "      <th>3</th>\n",
       "      <td>7795-CFOCW</td>\n",
       "      <td>Male</td>\n",
       "      <td>0</td>\n",
       "      <td>No</td>\n",
       "      <td>No</td>\n",
       "    </tr>\n",
       "    <tr>\n",
       "      <th>4</th>\n",
       "      <td>9237-HQITU</td>\n",
       "      <td>Female</td>\n",
       "      <td>0</td>\n",
       "      <td>No</td>\n",
       "      <td>No</td>\n",
       "    </tr>\n",
       "  </tbody>\n",
       "</table>\n",
       "</div>"
      ],
      "text/plain": [
       "   customerID  gender  SeniorCitizen Partner Dependents\n",
       "0  7590-VHVEG  Female              0     Yes         No\n",
       "1  5575-GNVDE    Male              0      No         No\n",
       "2  3668-QPYBK    Male              0      No         No\n",
       "3  7795-CFOCW    Male              0      No         No\n",
       "4  9237-HQITU  Female              0      No         No"
      ]
     },
     "execution_count": 9,
     "metadata": {},
     "output_type": "execute_result"
    }
   ],
   "source": [
    "personal_df.head()"
   ]
  },
  {
   "cell_type": "code",
   "execution_count": 10,
   "metadata": {},
   "outputs": [
    {
     "name": "stdout",
     "output_type": "stream",
     "text": [
      "<class 'pandas.core.frame.DataFrame'>\n",
      "RangeIndex: 5517 entries, 0 to 5516\n",
      "Data columns (total 8 columns):\n",
      " #   Column            Non-Null Count  Dtype \n",
      "---  ------            --------------  ----- \n",
      " 0   customerID        5517 non-null   object\n",
      " 1   InternetService   5517 non-null   object\n",
      " 2   OnlineSecurity    5517 non-null   object\n",
      " 3   OnlineBackup      5517 non-null   object\n",
      " 4   DeviceProtection  5517 non-null   object\n",
      " 5   TechSupport       5517 non-null   object\n",
      " 6   StreamingTV       5517 non-null   object\n",
      " 7   StreamingMovies   5517 non-null   object\n",
      "dtypes: object(8)\n",
      "memory usage: 344.9+ KB\n"
     ]
    }
   ],
   "source": [
    "internet_df.info()"
   ]
  },
  {
   "cell_type": "code",
   "execution_count": 11,
   "metadata": {},
   "outputs": [
    {
     "data": {
      "text/html": [
       "<div>\n",
       "<style scoped>\n",
       "    .dataframe tbody tr th:only-of-type {\n",
       "        vertical-align: middle;\n",
       "    }\n",
       "\n",
       "    .dataframe tbody tr th {\n",
       "        vertical-align: top;\n",
       "    }\n",
       "\n",
       "    .dataframe thead th {\n",
       "        text-align: right;\n",
       "    }\n",
       "</style>\n",
       "<table border=\"1\" class=\"dataframe\">\n",
       "  <thead>\n",
       "    <tr style=\"text-align: right;\">\n",
       "      <th></th>\n",
       "      <th>customerID</th>\n",
       "      <th>InternetService</th>\n",
       "      <th>OnlineSecurity</th>\n",
       "      <th>OnlineBackup</th>\n",
       "      <th>DeviceProtection</th>\n",
       "      <th>TechSupport</th>\n",
       "      <th>StreamingTV</th>\n",
       "      <th>StreamingMovies</th>\n",
       "    </tr>\n",
       "  </thead>\n",
       "  <tbody>\n",
       "    <tr>\n",
       "      <th>0</th>\n",
       "      <td>7590-VHVEG</td>\n",
       "      <td>DSL</td>\n",
       "      <td>No</td>\n",
       "      <td>Yes</td>\n",
       "      <td>No</td>\n",
       "      <td>No</td>\n",
       "      <td>No</td>\n",
       "      <td>No</td>\n",
       "    </tr>\n",
       "    <tr>\n",
       "      <th>1</th>\n",
       "      <td>5575-GNVDE</td>\n",
       "      <td>DSL</td>\n",
       "      <td>Yes</td>\n",
       "      <td>No</td>\n",
       "      <td>Yes</td>\n",
       "      <td>No</td>\n",
       "      <td>No</td>\n",
       "      <td>No</td>\n",
       "    </tr>\n",
       "    <tr>\n",
       "      <th>2</th>\n",
       "      <td>3668-QPYBK</td>\n",
       "      <td>DSL</td>\n",
       "      <td>Yes</td>\n",
       "      <td>Yes</td>\n",
       "      <td>No</td>\n",
       "      <td>No</td>\n",
       "      <td>No</td>\n",
       "      <td>No</td>\n",
       "    </tr>\n",
       "    <tr>\n",
       "      <th>3</th>\n",
       "      <td>7795-CFOCW</td>\n",
       "      <td>DSL</td>\n",
       "      <td>Yes</td>\n",
       "      <td>No</td>\n",
       "      <td>Yes</td>\n",
       "      <td>Yes</td>\n",
       "      <td>No</td>\n",
       "      <td>No</td>\n",
       "    </tr>\n",
       "    <tr>\n",
       "      <th>4</th>\n",
       "      <td>9237-HQITU</td>\n",
       "      <td>Fiber optic</td>\n",
       "      <td>No</td>\n",
       "      <td>No</td>\n",
       "      <td>No</td>\n",
       "      <td>No</td>\n",
       "      <td>No</td>\n",
       "      <td>No</td>\n",
       "    </tr>\n",
       "  </tbody>\n",
       "</table>\n",
       "</div>"
      ],
      "text/plain": [
       "   customerID InternetService OnlineSecurity OnlineBackup DeviceProtection  \\\n",
       "0  7590-VHVEG             DSL             No          Yes               No   \n",
       "1  5575-GNVDE             DSL            Yes           No              Yes   \n",
       "2  3668-QPYBK             DSL            Yes          Yes               No   \n",
       "3  7795-CFOCW             DSL            Yes           No              Yes   \n",
       "4  9237-HQITU     Fiber optic             No           No               No   \n",
       "\n",
       "  TechSupport StreamingTV StreamingMovies  \n",
       "0          No          No              No  \n",
       "1          No          No              No  \n",
       "2          No          No              No  \n",
       "3         Yes          No              No  \n",
       "4          No          No              No  "
      ]
     },
     "execution_count": 11,
     "metadata": {},
     "output_type": "execute_result"
    }
   ],
   "source": [
    "internet_df.head()"
   ]
  },
  {
   "cell_type": "code",
   "execution_count": 12,
   "metadata": {},
   "outputs": [
    {
     "name": "stdout",
     "output_type": "stream",
     "text": [
      "<class 'pandas.core.frame.DataFrame'>\n",
      "RangeIndex: 6361 entries, 0 to 6360\n",
      "Data columns (total 2 columns):\n",
      " #   Column         Non-Null Count  Dtype \n",
      "---  ------         --------------  ----- \n",
      " 0   customerID     6361 non-null   object\n",
      " 1   MultipleLines  6361 non-null   object\n",
      "dtypes: object(2)\n",
      "memory usage: 99.5+ KB\n"
     ]
    }
   ],
   "source": [
    "phone_df.info()"
   ]
  },
  {
   "cell_type": "code",
   "execution_count": 13,
   "metadata": {},
   "outputs": [
    {
     "data": {
      "text/html": [
       "<div>\n",
       "<style scoped>\n",
       "    .dataframe tbody tr th:only-of-type {\n",
       "        vertical-align: middle;\n",
       "    }\n",
       "\n",
       "    .dataframe tbody tr th {\n",
       "        vertical-align: top;\n",
       "    }\n",
       "\n",
       "    .dataframe thead th {\n",
       "        text-align: right;\n",
       "    }\n",
       "</style>\n",
       "<table border=\"1\" class=\"dataframe\">\n",
       "  <thead>\n",
       "    <tr style=\"text-align: right;\">\n",
       "      <th></th>\n",
       "      <th>customerID</th>\n",
       "      <th>MultipleLines</th>\n",
       "    </tr>\n",
       "  </thead>\n",
       "  <tbody>\n",
       "    <tr>\n",
       "      <th>0</th>\n",
       "      <td>5575-GNVDE</td>\n",
       "      <td>No</td>\n",
       "    </tr>\n",
       "    <tr>\n",
       "      <th>1</th>\n",
       "      <td>3668-QPYBK</td>\n",
       "      <td>No</td>\n",
       "    </tr>\n",
       "    <tr>\n",
       "      <th>2</th>\n",
       "      <td>9237-HQITU</td>\n",
       "      <td>No</td>\n",
       "    </tr>\n",
       "    <tr>\n",
       "      <th>3</th>\n",
       "      <td>9305-CDSKC</td>\n",
       "      <td>Yes</td>\n",
       "    </tr>\n",
       "    <tr>\n",
       "      <th>4</th>\n",
       "      <td>1452-KIOVK</td>\n",
       "      <td>Yes</td>\n",
       "    </tr>\n",
       "  </tbody>\n",
       "</table>\n",
       "</div>"
      ],
      "text/plain": [
       "   customerID MultipleLines\n",
       "0  5575-GNVDE            No\n",
       "1  3668-QPYBK            No\n",
       "2  9237-HQITU            No\n",
       "3  9305-CDSKC           Yes\n",
       "4  1452-KIOVK           Yes"
      ]
     },
     "execution_count": 13,
     "metadata": {},
     "output_type": "execute_result"
    }
   ],
   "source": [
    "phone_df.head()"
   ]
  },
  {
   "cell_type": "code",
   "execution_count": 14,
   "metadata": {},
   "outputs": [
    {
     "name": "stdout",
     "output_type": "stream",
     "text": [
      "Contract DataFrame:\n",
      "  - Shape: (7043, 8)\n",
      "  - Duplicates: 0\n",
      "  - Missing Values: 0\n",
      "\n",
      "Personal DataFrame:\n",
      "  - Shape: (7043, 5)\n",
      "  - Duplicates: 0\n",
      "  - Missing Values: 0\n",
      "\n",
      "Internet DataFrame:\n",
      "  - Shape: (5517, 8)\n",
      "  - Duplicates: 0\n",
      "  - Missing Values: 0\n",
      "\n",
      "Phone DataFrame:\n",
      "  - Shape: (6361, 2)\n",
      "  - Duplicates: 0\n",
      "  - Missing Values: 0\n",
      "\n"
     ]
    }
   ],
   "source": [
    "# Check for Duplicates, Missing Values, and Shape\n",
    "\n",
    "def check_dataframe(df_list, names):\n",
    "    for df, name in zip(df_list, names):\n",
    "        print(f\"{name} DataFrame:\")\n",
    "        print(f\"  - Shape: {df.shape}\")\n",
    "        print(f\"  - Duplicates: {df.duplicated().sum()}\")\n",
    "        print(f\"  - Missing Values: {df.isnull().sum().sum()}\")\n",
    "        print()\n",
    "\n",
    "df_list = [contract_df, personal_df, internet_df, phone_df]\n",
    "names = [\"Contract\", \"Personal\", \"Internet\", \"Phone\"]\n",
    "check_dataframe(df_list, names)"
   ]
  },
  {
   "cell_type": "markdown",
   "metadata": {},
   "source": [
    "#### Observations\n",
    "\n",
    "- No missing values or duplicates in any dataset, but datatype issues (TotalCharges) require resolution.\n",
    "\n",
    "**Next Steps**\n",
    "\n",
    "- Data Cleaning: Address TotalCharges datatype issue and ensure proper handling of non-numeric entries.\n",
    "- Merge Datasets: Combine the datasets using customerID to create a unified dataframe for analysis.\n",
    "- Exploratory Data Analysis (EDA): Identify trends, correlations, and anomalies within the combined dataset.\n",
    "- Data Splitting: Split the data into training and testing sets to prepare for modeling."
   ]
  },
  {
   "cell_type": "markdown",
   "metadata": {},
   "source": [
    "### Exploratory Data Analysis"
   ]
  },
  {
   "cell_type": "code",
   "execution_count": 17,
   "metadata": {},
   "outputs": [],
   "source": [
    "# Changing Data Types\n",
    "\n",
    "contract_df['TotalCharges'] = pd.to_numeric(contract_df['TotalCharges'], errors='coerce')\n",
    "contract_df['BeginDate'] = pd.to_datetime(contract_df['BeginDate'])\n"
   ]
  },
  {
   "cell_type": "code",
   "execution_count": 18,
   "metadata": {},
   "outputs": [
    {
     "name": "stdout",
     "output_type": "stream",
     "text": [
      "<class 'pandas.core.frame.DataFrame'>\n",
      "RangeIndex: 7043 entries, 0 to 7042\n",
      "Data columns (total 8 columns):\n",
      " #   Column            Non-Null Count  Dtype         \n",
      "---  ------            --------------  -----         \n",
      " 0   customerID        7043 non-null   object        \n",
      " 1   BeginDate         7043 non-null   datetime64[ns]\n",
      " 2   EndDate           7043 non-null   object        \n",
      " 3   Type              7043 non-null   object        \n",
      " 4   PaperlessBilling  7043 non-null   object        \n",
      " 5   PaymentMethod     7043 non-null   object        \n",
      " 6   MonthlyCharges    7043 non-null   float64       \n",
      " 7   TotalCharges      7032 non-null   float64       \n",
      "dtypes: datetime64[ns](1), float64(2), object(5)\n",
      "memory usage: 440.3+ KB\n"
     ]
    }
   ],
   "source": [
    "contract_df.info()"
   ]
  },
  {
   "cell_type": "code",
   "execution_count": 19,
   "metadata": {},
   "outputs": [
    {
     "data": {
      "text/plain": [
       "customerID           0\n",
       "BeginDate            0\n",
       "EndDate              0\n",
       "Type                 0\n",
       "PaperlessBilling     0\n",
       "PaymentMethod        0\n",
       "MonthlyCharges       0\n",
       "TotalCharges        11\n",
       "dtype: int64"
      ]
     },
     "execution_count": 19,
     "metadata": {},
     "output_type": "execute_result"
    }
   ],
   "source": [
    "contract_df.isna().sum()"
   ]
  },
  {
   "cell_type": "code",
   "execution_count": 20,
   "metadata": {},
   "outputs": [],
   "source": [
    "# Filling in NAN values for TotalCharges with the mean\n",
    "\n",
    "contract_df['TotalCharges'] = contract_df['TotalCharges'].fillna(contract_df['TotalCharges'].mean())"
   ]
  },
  {
   "cell_type": "code",
   "execution_count": 21,
   "metadata": {},
   "outputs": [],
   "source": [
    "# Merging all datasets on customerID\n",
    "\n",
    "customers_df = personal_df.merge(contract_df, left_on=['customerID'], right_on=['customerID'], how='left')\n",
    "customers_df = customers_df.merge(phone_df, left_on=['customerID'], right_on=['customerID'], how='left')\n",
    "customers_df = customers_df.merge(internet_df, left_on=['customerID'], right_on=['customerID'], how='left')"
   ]
  },
  {
   "cell_type": "code",
   "execution_count": 22,
   "metadata": {},
   "outputs": [
    {
     "name": "stdout",
     "output_type": "stream",
     "text": [
      "<class 'pandas.core.frame.DataFrame'>\n",
      "RangeIndex: 7043 entries, 0 to 7042\n",
      "Data columns (total 20 columns):\n",
      " #   Column            Non-Null Count  Dtype         \n",
      "---  ------            --------------  -----         \n",
      " 0   customerID        7043 non-null   object        \n",
      " 1   gender            7043 non-null   object        \n",
      " 2   SeniorCitizen     7043 non-null   int64         \n",
      " 3   Partner           7043 non-null   object        \n",
      " 4   Dependents        7043 non-null   object        \n",
      " 5   BeginDate         7043 non-null   datetime64[ns]\n",
      " 6   EndDate           7043 non-null   object        \n",
      " 7   Type              7043 non-null   object        \n",
      " 8   PaperlessBilling  7043 non-null   object        \n",
      " 9   PaymentMethod     7043 non-null   object        \n",
      " 10  MonthlyCharges    7043 non-null   float64       \n",
      " 11  TotalCharges      7043 non-null   float64       \n",
      " 12  MultipleLines     6361 non-null   object        \n",
      " 13  InternetService   5517 non-null   object        \n",
      " 14  OnlineSecurity    5517 non-null   object        \n",
      " 15  OnlineBackup      5517 non-null   object        \n",
      " 16  DeviceProtection  5517 non-null   object        \n",
      " 17  TechSupport       5517 non-null   object        \n",
      " 18  StreamingTV       5517 non-null   object        \n",
      " 19  StreamingMovies   5517 non-null   object        \n",
      "dtypes: datetime64[ns](1), float64(2), int64(1), object(16)\n",
      "memory usage: 1.1+ MB\n"
     ]
    }
   ],
   "source": [
    "customers_df.info()"
   ]
  },
  {
   "cell_type": "code",
   "execution_count": 23,
   "metadata": {},
   "outputs": [
    {
     "data": {
      "text/html": [
       "<div>\n",
       "<style scoped>\n",
       "    .dataframe tbody tr th:only-of-type {\n",
       "        vertical-align: middle;\n",
       "    }\n",
       "\n",
       "    .dataframe tbody tr th {\n",
       "        vertical-align: top;\n",
       "    }\n",
       "\n",
       "    .dataframe thead th {\n",
       "        text-align: right;\n",
       "    }\n",
       "</style>\n",
       "<table border=\"1\" class=\"dataframe\">\n",
       "  <thead>\n",
       "    <tr style=\"text-align: right;\">\n",
       "      <th></th>\n",
       "      <th>SeniorCitizen</th>\n",
       "      <th>BeginDate</th>\n",
       "      <th>MonthlyCharges</th>\n",
       "      <th>TotalCharges</th>\n",
       "    </tr>\n",
       "  </thead>\n",
       "  <tbody>\n",
       "    <tr>\n",
       "      <th>count</th>\n",
       "      <td>7043.000000</td>\n",
       "      <td>7043</td>\n",
       "      <td>7043.000000</td>\n",
       "      <td>7043.000000</td>\n",
       "    </tr>\n",
       "    <tr>\n",
       "      <th>mean</th>\n",
       "      <td>0.162147</td>\n",
       "      <td>2017-04-30 13:01:50.918642688</td>\n",
       "      <td>64.761692</td>\n",
       "      <td>2283.300441</td>\n",
       "    </tr>\n",
       "    <tr>\n",
       "      <th>min</th>\n",
       "      <td>0.000000</td>\n",
       "      <td>2013-10-01 00:00:00</td>\n",
       "      <td>18.250000</td>\n",
       "      <td>18.800000</td>\n",
       "    </tr>\n",
       "    <tr>\n",
       "      <th>25%</th>\n",
       "      <td>0.000000</td>\n",
       "      <td>2015-06-01 00:00:00</td>\n",
       "      <td>35.500000</td>\n",
       "      <td>402.225000</td>\n",
       "    </tr>\n",
       "    <tr>\n",
       "      <th>50%</th>\n",
       "      <td>0.000000</td>\n",
       "      <td>2017-09-01 00:00:00</td>\n",
       "      <td>70.350000</td>\n",
       "      <td>1400.550000</td>\n",
       "    </tr>\n",
       "    <tr>\n",
       "      <th>75%</th>\n",
       "      <td>0.000000</td>\n",
       "      <td>2019-04-01 00:00:00</td>\n",
       "      <td>89.850000</td>\n",
       "      <td>3786.600000</td>\n",
       "    </tr>\n",
       "    <tr>\n",
       "      <th>max</th>\n",
       "      <td>1.000000</td>\n",
       "      <td>2020-02-01 00:00:00</td>\n",
       "      <td>118.750000</td>\n",
       "      <td>8684.800000</td>\n",
       "    </tr>\n",
       "    <tr>\n",
       "      <th>std</th>\n",
       "      <td>0.368612</td>\n",
       "      <td>NaN</td>\n",
       "      <td>30.090047</td>\n",
       "      <td>2265.000258</td>\n",
       "    </tr>\n",
       "  </tbody>\n",
       "</table>\n",
       "</div>"
      ],
      "text/plain": [
       "       SeniorCitizen                      BeginDate  MonthlyCharges  \\\n",
       "count    7043.000000                           7043     7043.000000   \n",
       "mean        0.162147  2017-04-30 13:01:50.918642688       64.761692   \n",
       "min         0.000000            2013-10-01 00:00:00       18.250000   \n",
       "25%         0.000000            2015-06-01 00:00:00       35.500000   \n",
       "50%         0.000000            2017-09-01 00:00:00       70.350000   \n",
       "75%         0.000000            2019-04-01 00:00:00       89.850000   \n",
       "max         1.000000            2020-02-01 00:00:00      118.750000   \n",
       "std         0.368612                            NaN       30.090047   \n",
       "\n",
       "       TotalCharges  \n",
       "count   7043.000000  \n",
       "mean    2283.300441  \n",
       "min       18.800000  \n",
       "25%      402.225000  \n",
       "50%     1400.550000  \n",
       "75%     3786.600000  \n",
       "max     8684.800000  \n",
       "std     2265.000258  "
      ]
     },
     "execution_count": 23,
     "metadata": {},
     "output_type": "execute_result"
    }
   ],
   "source": [
    "customers_df.describe()"
   ]
  },
  {
   "cell_type": "code",
   "execution_count": 24,
   "metadata": {},
   "outputs": [
    {
     "data": {
      "text/html": [
       "<div>\n",
       "<style scoped>\n",
       "    .dataframe tbody tr th:only-of-type {\n",
       "        vertical-align: middle;\n",
       "    }\n",
       "\n",
       "    .dataframe tbody tr th {\n",
       "        vertical-align: top;\n",
       "    }\n",
       "\n",
       "    .dataframe thead th {\n",
       "        text-align: right;\n",
       "    }\n",
       "</style>\n",
       "<table border=\"1\" class=\"dataframe\">\n",
       "  <thead>\n",
       "    <tr style=\"text-align: right;\">\n",
       "      <th></th>\n",
       "      <th>customerID</th>\n",
       "      <th>gender</th>\n",
       "      <th>SeniorCitizen</th>\n",
       "      <th>Partner</th>\n",
       "      <th>Dependents</th>\n",
       "      <th>BeginDate</th>\n",
       "      <th>EndDate</th>\n",
       "      <th>Type</th>\n",
       "      <th>PaperlessBilling</th>\n",
       "      <th>PaymentMethod</th>\n",
       "      <th>MonthlyCharges</th>\n",
       "      <th>TotalCharges</th>\n",
       "      <th>MultipleLines</th>\n",
       "      <th>InternetService</th>\n",
       "      <th>OnlineSecurity</th>\n",
       "      <th>OnlineBackup</th>\n",
       "      <th>DeviceProtection</th>\n",
       "      <th>TechSupport</th>\n",
       "      <th>StreamingTV</th>\n",
       "      <th>StreamingMovies</th>\n",
       "    </tr>\n",
       "  </thead>\n",
       "  <tbody>\n",
       "    <tr>\n",
       "      <th>0</th>\n",
       "      <td>7590-VHVEG</td>\n",
       "      <td>Female</td>\n",
       "      <td>0</td>\n",
       "      <td>Yes</td>\n",
       "      <td>No</td>\n",
       "      <td>2020-01-01</td>\n",
       "      <td>No</td>\n",
       "      <td>Month-to-month</td>\n",
       "      <td>Yes</td>\n",
       "      <td>Electronic check</td>\n",
       "      <td>29.85</td>\n",
       "      <td>29.85</td>\n",
       "      <td>NaN</td>\n",
       "      <td>DSL</td>\n",
       "      <td>No</td>\n",
       "      <td>Yes</td>\n",
       "      <td>No</td>\n",
       "      <td>No</td>\n",
       "      <td>No</td>\n",
       "      <td>No</td>\n",
       "    </tr>\n",
       "    <tr>\n",
       "      <th>1</th>\n",
       "      <td>5575-GNVDE</td>\n",
       "      <td>Male</td>\n",
       "      <td>0</td>\n",
       "      <td>No</td>\n",
       "      <td>No</td>\n",
       "      <td>2017-04-01</td>\n",
       "      <td>No</td>\n",
       "      <td>One year</td>\n",
       "      <td>No</td>\n",
       "      <td>Mailed check</td>\n",
       "      <td>56.95</td>\n",
       "      <td>1889.50</td>\n",
       "      <td>No</td>\n",
       "      <td>DSL</td>\n",
       "      <td>Yes</td>\n",
       "      <td>No</td>\n",
       "      <td>Yes</td>\n",
       "      <td>No</td>\n",
       "      <td>No</td>\n",
       "      <td>No</td>\n",
       "    </tr>\n",
       "    <tr>\n",
       "      <th>2</th>\n",
       "      <td>3668-QPYBK</td>\n",
       "      <td>Male</td>\n",
       "      <td>0</td>\n",
       "      <td>No</td>\n",
       "      <td>No</td>\n",
       "      <td>2019-10-01</td>\n",
       "      <td>2019-12-01 00:00:00</td>\n",
       "      <td>Month-to-month</td>\n",
       "      <td>Yes</td>\n",
       "      <td>Mailed check</td>\n",
       "      <td>53.85</td>\n",
       "      <td>108.15</td>\n",
       "      <td>No</td>\n",
       "      <td>DSL</td>\n",
       "      <td>Yes</td>\n",
       "      <td>Yes</td>\n",
       "      <td>No</td>\n",
       "      <td>No</td>\n",
       "      <td>No</td>\n",
       "      <td>No</td>\n",
       "    </tr>\n",
       "    <tr>\n",
       "      <th>3</th>\n",
       "      <td>7795-CFOCW</td>\n",
       "      <td>Male</td>\n",
       "      <td>0</td>\n",
       "      <td>No</td>\n",
       "      <td>No</td>\n",
       "      <td>2016-05-01</td>\n",
       "      <td>No</td>\n",
       "      <td>One year</td>\n",
       "      <td>No</td>\n",
       "      <td>Bank transfer (automatic)</td>\n",
       "      <td>42.30</td>\n",
       "      <td>1840.75</td>\n",
       "      <td>NaN</td>\n",
       "      <td>DSL</td>\n",
       "      <td>Yes</td>\n",
       "      <td>No</td>\n",
       "      <td>Yes</td>\n",
       "      <td>Yes</td>\n",
       "      <td>No</td>\n",
       "      <td>No</td>\n",
       "    </tr>\n",
       "    <tr>\n",
       "      <th>4</th>\n",
       "      <td>9237-HQITU</td>\n",
       "      <td>Female</td>\n",
       "      <td>0</td>\n",
       "      <td>No</td>\n",
       "      <td>No</td>\n",
       "      <td>2019-09-01</td>\n",
       "      <td>2019-11-01 00:00:00</td>\n",
       "      <td>Month-to-month</td>\n",
       "      <td>Yes</td>\n",
       "      <td>Electronic check</td>\n",
       "      <td>70.70</td>\n",
       "      <td>151.65</td>\n",
       "      <td>No</td>\n",
       "      <td>Fiber optic</td>\n",
       "      <td>No</td>\n",
       "      <td>No</td>\n",
       "      <td>No</td>\n",
       "      <td>No</td>\n",
       "      <td>No</td>\n",
       "      <td>No</td>\n",
       "    </tr>\n",
       "  </tbody>\n",
       "</table>\n",
       "</div>"
      ],
      "text/plain": [
       "   customerID  gender  SeniorCitizen Partner Dependents  BeginDate  \\\n",
       "0  7590-VHVEG  Female              0     Yes         No 2020-01-01   \n",
       "1  5575-GNVDE    Male              0      No         No 2017-04-01   \n",
       "2  3668-QPYBK    Male              0      No         No 2019-10-01   \n",
       "3  7795-CFOCW    Male              0      No         No 2016-05-01   \n",
       "4  9237-HQITU  Female              0      No         No 2019-09-01   \n",
       "\n",
       "               EndDate            Type PaperlessBilling  \\\n",
       "0                   No  Month-to-month              Yes   \n",
       "1                   No        One year               No   \n",
       "2  2019-12-01 00:00:00  Month-to-month              Yes   \n",
       "3                   No        One year               No   \n",
       "4  2019-11-01 00:00:00  Month-to-month              Yes   \n",
       "\n",
       "               PaymentMethod  MonthlyCharges  TotalCharges MultipleLines  \\\n",
       "0           Electronic check           29.85         29.85           NaN   \n",
       "1               Mailed check           56.95       1889.50            No   \n",
       "2               Mailed check           53.85        108.15            No   \n",
       "3  Bank transfer (automatic)           42.30       1840.75           NaN   \n",
       "4           Electronic check           70.70        151.65            No   \n",
       "\n",
       "  InternetService OnlineSecurity OnlineBackup DeviceProtection TechSupport  \\\n",
       "0             DSL             No          Yes               No          No   \n",
       "1             DSL            Yes           No              Yes          No   \n",
       "2             DSL            Yes          Yes               No          No   \n",
       "3             DSL            Yes           No              Yes         Yes   \n",
       "4     Fiber optic             No           No               No          No   \n",
       "\n",
       "  StreamingTV StreamingMovies  \n",
       "0          No              No  \n",
       "1          No              No  \n",
       "2          No              No  \n",
       "3          No              No  \n",
       "4          No              No  "
      ]
     },
     "execution_count": 24,
     "metadata": {},
     "output_type": "execute_result"
    }
   ],
   "source": [
    "customers_df.head()"
   ]
  },
  {
   "cell_type": "code",
   "execution_count": 25,
   "metadata": {},
   "outputs": [
    {
     "data": {
      "image/png": "[encoded data removed]",
      "text/plain": [
       "<Figure size 640x480 with 1 Axes>"
      ]
     },
     "metadata": {},
     "output_type": "display_data"
    }
   ],
   "source": [
    "# MonthlyCharges distribution\n",
    "sns.histplot(customers_df['MonthlyCharges'], kde=True)\n",
    "plt.title('Distribution of MonthlyCharges')\n",
    "plt.xlabel('MonthlyCharges')\n",
    "plt.ylabel('Frequency')\n",
    "plt.show()"
   ]
  },
  {
   "cell_type": "code",
   "execution_count": 26,
   "metadata": {},
   "outputs": [
    {
     "name": "stdout",
     "output_type": "stream",
     "text": [
      "Canceled customers %: 36.12\n"
     ]
    }
   ],
   "source": [
    "# Canceled Customers\n",
    "\n",
    "current_customers = (customers_df['EndDate'] == 'No').sum()\n",
    "canceled_customers = (~(customers_df['EndDate'] == 'No')).sum()\n",
    "\n",
    "print('Canceled customers %:', round((canceled_customers / current_customers) * 100, 2))"
   ]
  },
  {
   "cell_type": "code",
   "execution_count": 27,
   "metadata": {},
   "outputs": [
    {
     "name": "stdout",
     "output_type": "stream",
     "text": [
      "gender\n",
      "Female    7.963771e+06\n",
      "Male      8.117514e+06\n",
      "Name: TotalCharges, dtype: float64\n"
     ]
    }
   ],
   "source": [
    "# Payment made by Gender\n",
    "\n",
    "gender_totals = customers_df.groupby(['gender'])['TotalCharges'].sum()\n",
    "print(gender_totals)"
   ]
  },
  {
   "cell_type": "code",
   "execution_count": 28,
   "metadata": {},
   "outputs": [
    {
     "name": "stdout",
     "output_type": "stream",
     "text": [
      "Average Tenure of customers for Interconnect Telecom in days: 547.3520599250936\n"
     ]
    },
    {
     "data": {
      "text/plain": [
       "count    1869.000000\n",
       "mean      547.352060\n",
       "std       594.389607\n",
       "min        30.000000\n",
       "25%        61.000000\n",
       "50%       304.000000\n",
       "75%       883.000000\n",
       "max      2191.000000\n",
       "Name: Tenure, dtype: float64"
      ]
     },
     "execution_count": 28,
     "metadata": {},
     "output_type": "execute_result"
    }
   ],
   "source": [
    "# Average Tenure of a Interconnect Telecom Customer\n",
    "\n",
    "customers_df['EndDate'] = pd.to_datetime(customers_df['EndDate'], errors='coerce')\n",
    "\n",
    "customers_df['Tenure'] = (customers_df['EndDate'] - customers_df['BeginDate']).dt.days\n",
    "\n",
    "canceled_customers = customers_df[customers_df['EndDate'] != 'No']\n",
    "\n",
    "avg_tenure_cancel = canceled_customers['Tenure'].mean()\n",
    "\n",
    "print('Average Tenure of customers for Interconnect Telecom in days:', avg_tenure_cancel)\n",
    "\n",
    "customers_df['Tenure'].describe()"
   ]
  },
  {
   "cell_type": "code",
   "execution_count": 29,
   "metadata": {},
   "outputs": [],
   "source": [
    "customers_df['Tenure'] = customers_df['Tenure'].fillna(0)\n",
    "customers_df['EndDate'] = customers_df['EndDate'].fillna(0)"
   ]
  },
  {
   "cell_type": "code",
   "execution_count": 30,
   "metadata": {},
   "outputs": [
    {
     "data": {
      "image/png": "[encoded data removed]",
      "text/plain": [
       "<Figure size 1000x1000 with 1 Axes>"
      ]
     },
     "metadata": {},
     "output_type": "display_data"
    },
    {
     "name": "stdout",
     "output_type": "stream",
     "text": [
      "Correlation Coefficient: \"0.2528043821880762\"\n"
     ]
    }
   ],
   "source": [
    "# Scatterplot of Tenure vs Monthly Charges\n",
    "\n",
    "plt.figure(figsize=(10,10))\n",
    "sns.scatterplot(x='Tenure', y='MonthlyCharges', data=customers_df, alpha=.75, color='r')\n",
    "plt.xlabel('Tenure in Months')\n",
    "plt.ylabel('Monthly Charges')\n",
    "plt.title('Tenure v Monthly Charges')\n",
    "plt.show()\n",
    "\n",
    "corr_coe = customers_df['Tenure'].corr(customers_df['MonthlyCharges'])\n",
    "print(f'Correlation Coefficient: \"{corr_coe}\"')"
   ]
  },
  {
   "cell_type": "markdown",
   "metadata": {},
   "source": [
    "#### Observations\n",
    "\n",
    "**Customer Tenure:**\n",
    "\n",
    "- Average tenure for canceled customers is 547 days (~1.5 years).\n",
    "\n",
    "- Tenure varies widely, with a median of 304 days and a maximum of 2191 days (~6 years).\n",
    "\n",
    "**Monthly Charges:**\n",
    "\n",
    "- Most customers pay between \\\\$20 and \\\\$120 per month, with an average of $64.76.\n",
    "\n",
    "- The distribution suggests distinct customer segments with varying service usage levels.\n",
    "\n",
    "**Customer Cancellations:**\n",
    "\n",
    "- 36.12% of customers have canceled their service.\n",
    "\n",
    "- Retention efforts should target the early stages of tenure where cancellations are more frequent.\n",
    "\n",
    "**Total Revenue:**\n",
    "\n",
    "- Male and female customers contribute similar revenue (~$8 million each).\n",
    "\n",
    "**Correlation:**\n",
    "\n",
    "- A weak positive correlation (0.2528) exists between tenure and monthly charges, indicating longer-tenure customers have diverse payment patterns.\n",
    "\n",
    "**Senior Citizens:**\n",
    "\n",
    "- Only 16.2% of customers are senior citizens, suggesting the customer base skews younger."
   ]
  },
  {
   "cell_type": "markdown",
   "metadata": {},
   "source": [
    "### Work Plan\n",
    "\n",
    "*Data Preparation*\n",
    "\n",
    "- Load the provided .csv files (contract.csv, personal.csv, internet.csv, phone.csv) into Pandas DataFrames for further analysis.\n",
    "\n",
    "*Exploratory Data Analysis*\n",
    "\n",
    "- Perform an exploratory analysis to explore the data, identify variable relationships, and uncover any patterns or trends that may emerge.\n",
    "\n",
    "*Feature Engineering*\n",
    "\n",
    "- Generate new, relevant features that can enhance the predictive power of the model.\n",
    "\n",
    "*Model Selection*\n",
    "\n",
    "- Identify suitable machine learning models for churn prediction, incorporating boosting techniques (e.g., Logistic Regression, Random Forest, Gradient Boosting, etc.).\n",
    "\n",
    "*Model Training and Evaluation*\n",
    "\n",
    "- Train the selected models and evaluate their performance using metrics such as AUC-ROC to assess their accuracy.\n",
    "\n",
    "*Determine the Best Performing Model*\n",
    "\n",
    "- Select the model that performs best based on evaluation results and use it to predict churn for new clients.\n",
    "\n",
    "*Conclusion and Visualization*\n",
    "\n",
    "- Summarize the findings and results of the analysis and modeling efforts, and present key insights through visualizations."
   ]
  },
  {
   "cell_type": "markdown",
   "metadata": {},
   "source": [
    "# Solution Code"
   ]
  },
  {
   "cell_type": "code",
   "execution_count": 34,
   "metadata": {},
   "outputs": [
    {
     "data": {
      "text/plain": [
       "customerID             0\n",
       "gender                 0\n",
       "SeniorCitizen          0\n",
       "Partner                0\n",
       "Dependents             0\n",
       "BeginDate              0\n",
       "EndDate                0\n",
       "Type                   0\n",
       "PaperlessBilling       0\n",
       "PaymentMethod          0\n",
       "MonthlyCharges         0\n",
       "TotalCharges           0\n",
       "MultipleLines        682\n",
       "InternetService     1526\n",
       "OnlineSecurity      1526\n",
       "OnlineBackup        1526\n",
       "DeviceProtection    1526\n",
       "TechSupport         1526\n",
       "StreamingTV         1526\n",
       "StreamingMovies     1526\n",
       "Tenure                 0\n",
       "dtype: int64"
      ]
     },
     "execution_count": 34,
     "metadata": {},
     "output_type": "execute_result"
    }
   ],
   "source": [
    "# Check for missing values\n",
    "customers_df.isna().sum()"
   ]
  },
  {
   "cell_type": "code",
   "execution_count": 35,
   "metadata": {},
   "outputs": [
    {
     "data": {
      "text/plain": [
       "customerID          0\n",
       "gender              0\n",
       "SeniorCitizen       0\n",
       "Partner             0\n",
       "Dependents          0\n",
       "BeginDate           0\n",
       "EndDate             0\n",
       "Type                0\n",
       "PaperlessBilling    0\n",
       "PaymentMethod       0\n",
       "MonthlyCharges      0\n",
       "TotalCharges        0\n",
       "MultipleLines       0\n",
       "InternetService     0\n",
       "OnlineSecurity      0\n",
       "OnlineBackup        0\n",
       "DeviceProtection    0\n",
       "TechSupport         0\n",
       "StreamingTV         0\n",
       "StreamingMovies     0\n",
       "Tenure              0\n",
       "dtype: int64"
      ]
     },
     "execution_count": 35,
     "metadata": {},
     "output_type": "execute_result"
    }
   ],
   "source": [
    "# Fill missing values for categorical features with 'Did Not Buy'\n",
    "def did_not_buy_fill(df, columns):\n",
    "    did_not_buy = 'Did Not Buy'\n",
    "    for col in columns:\n",
    "        df[col] = df[col].fillna(did_not_buy)\n",
    "    return df\n",
    "\n",
    "columns_to_fill = ['MultipleLines', 'InternetService', 'OnlineSecurity', 'OnlineBackup', 'DeviceProtection',\n",
    "                   'TechSupport', 'StreamingTV', 'StreamingMovies']\n",
    "customers_df = did_not_buy_fill(customers_df, columns_to_fill)\n",
    "\n",
    "# Validate missing value removal\n",
    "customers_df.isna().sum()"
   ]
  },
  {
   "cell_type": "code",
   "execution_count": 36,
   "metadata": {},
   "outputs": [],
   "source": [
    "# Update churn status for modeling\n",
    "def churn_update(date):\n",
    "    if date == 0:\n",
    "        return 'NO CHURN'\n",
    "    else:\n",
    "        return 'CHURN'\n",
    "    \n",
    "customers_df['EndDate'] = customers_df['EndDate'].apply(churn_update)"
   ]
  },
  {
   "cell_type": "code",
   "execution_count": 37,
   "metadata": {},
   "outputs": [
    {
     "data": {
      "text/html": [
       "<div>\n",
       "<style scoped>\n",
       "    .dataframe tbody tr th:only-of-type {\n",
       "        vertical-align: middle;\n",
       "    }\n",
       "\n",
       "    .dataframe tbody tr th {\n",
       "        vertical-align: top;\n",
       "    }\n",
       "\n",
       "    .dataframe thead th {\n",
       "        text-align: right;\n",
       "    }\n",
       "</style>\n",
       "<table border=\"1\" class=\"dataframe\">\n",
       "  <thead>\n",
       "    <tr style=\"text-align: right;\">\n",
       "      <th></th>\n",
       "      <th>customerID</th>\n",
       "      <th>gender</th>\n",
       "      <th>SeniorCitizen</th>\n",
       "      <th>Partner</th>\n",
       "      <th>Dependents</th>\n",
       "      <th>BeginDate</th>\n",
       "      <th>EndDate</th>\n",
       "      <th>Type</th>\n",
       "      <th>PaperlessBilling</th>\n",
       "      <th>PaymentMethod</th>\n",
       "      <th>...</th>\n",
       "      <th>TotalCharges</th>\n",
       "      <th>MultipleLines</th>\n",
       "      <th>InternetService</th>\n",
       "      <th>OnlineSecurity</th>\n",
       "      <th>OnlineBackup</th>\n",
       "      <th>DeviceProtection</th>\n",
       "      <th>TechSupport</th>\n",
       "      <th>StreamingTV</th>\n",
       "      <th>StreamingMovies</th>\n",
       "      <th>Tenure</th>\n",
       "    </tr>\n",
       "  </thead>\n",
       "  <tbody>\n",
       "    <tr>\n",
       "      <th>0</th>\n",
       "      <td>7590-VHVEG</td>\n",
       "      <td>Female</td>\n",
       "      <td>0</td>\n",
       "      <td>Yes</td>\n",
       "      <td>No</td>\n",
       "      <td>2020-01-01</td>\n",
       "      <td>NO CHURN</td>\n",
       "      <td>Month-to-month</td>\n",
       "      <td>Yes</td>\n",
       "      <td>Electronic check</td>\n",
       "      <td>...</td>\n",
       "      <td>29.85</td>\n",
       "      <td>Did Not Buy</td>\n",
       "      <td>DSL</td>\n",
       "      <td>No</td>\n",
       "      <td>Yes</td>\n",
       "      <td>No</td>\n",
       "      <td>No</td>\n",
       "      <td>No</td>\n",
       "      <td>No</td>\n",
       "      <td>0.0</td>\n",
       "    </tr>\n",
       "    <tr>\n",
       "      <th>1</th>\n",
       "      <td>5575-GNVDE</td>\n",
       "      <td>Male</td>\n",
       "      <td>0</td>\n",
       "      <td>No</td>\n",
       "      <td>No</td>\n",
       "      <td>2017-04-01</td>\n",
       "      <td>NO CHURN</td>\n",
       "      <td>One year</td>\n",
       "      <td>No</td>\n",
       "      <td>Mailed check</td>\n",
       "      <td>...</td>\n",
       "      <td>1889.50</td>\n",
       "      <td>No</td>\n",
       "      <td>DSL</td>\n",
       "      <td>Yes</td>\n",
       "      <td>No</td>\n",
       "      <td>Yes</td>\n",
       "      <td>No</td>\n",
       "      <td>No</td>\n",
       "      <td>No</td>\n",
       "      <td>0.0</td>\n",
       "    </tr>\n",
       "    <tr>\n",
       "      <th>2</th>\n",
       "      <td>3668-QPYBK</td>\n",
       "      <td>Male</td>\n",
       "      <td>0</td>\n",
       "      <td>No</td>\n",
       "      <td>No</td>\n",
       "      <td>2019-10-01</td>\n",
       "      <td>CHURN</td>\n",
       "      <td>Month-to-month</td>\n",
       "      <td>Yes</td>\n",
       "      <td>Mailed check</td>\n",
       "      <td>...</td>\n",
       "      <td>108.15</td>\n",
       "      <td>No</td>\n",
       "      <td>DSL</td>\n",
       "      <td>Yes</td>\n",
       "      <td>Yes</td>\n",
       "      <td>No</td>\n",
       "      <td>No</td>\n",
       "      <td>No</td>\n",
       "      <td>No</td>\n",
       "      <td>61.0</td>\n",
       "    </tr>\n",
       "    <tr>\n",
       "      <th>3</th>\n",
       "      <td>7795-CFOCW</td>\n",
       "      <td>Male</td>\n",
       "      <td>0</td>\n",
       "      <td>No</td>\n",
       "      <td>No</td>\n",
       "      <td>2016-05-01</td>\n",
       "      <td>NO CHURN</td>\n",
       "      <td>One year</td>\n",
       "      <td>No</td>\n",
       "      <td>Bank transfer (automatic)</td>\n",
       "      <td>...</td>\n",
       "      <td>1840.75</td>\n",
       "      <td>Did Not Buy</td>\n",
       "      <td>DSL</td>\n",
       "      <td>Yes</td>\n",
       "      <td>No</td>\n",
       "      <td>Yes</td>\n",
       "      <td>Yes</td>\n",
       "      <td>No</td>\n",
       "      <td>No</td>\n",
       "      <td>0.0</td>\n",
       "    </tr>\n",
       "    <tr>\n",
       "      <th>4</th>\n",
       "      <td>9237-HQITU</td>\n",
       "      <td>Female</td>\n",
       "      <td>0</td>\n",
       "      <td>No</td>\n",
       "      <td>No</td>\n",
       "      <td>2019-09-01</td>\n",
       "      <td>CHURN</td>\n",
       "      <td>Month-to-month</td>\n",
       "      <td>Yes</td>\n",
       "      <td>Electronic check</td>\n",
       "      <td>...</td>\n",
       "      <td>151.65</td>\n",
       "      <td>No</td>\n",
       "      <td>Fiber optic</td>\n",
       "      <td>No</td>\n",
       "      <td>No</td>\n",
       "      <td>No</td>\n",
       "      <td>No</td>\n",
       "      <td>No</td>\n",
       "      <td>No</td>\n",
       "      <td>61.0</td>\n",
       "    </tr>\n",
       "    <tr>\n",
       "      <th>...</th>\n",
       "      <td>...</td>\n",
       "      <td>...</td>\n",
       "      <td>...</td>\n",
       "      <td>...</td>\n",
       "      <td>...</td>\n",
       "      <td>...</td>\n",
       "      <td>...</td>\n",
       "      <td>...</td>\n",
       "      <td>...</td>\n",
       "      <td>...</td>\n",
       "      <td>...</td>\n",
       "      <td>...</td>\n",
       "      <td>...</td>\n",
       "      <td>...</td>\n",
       "      <td>...</td>\n",
       "      <td>...</td>\n",
       "      <td>...</td>\n",
       "      <td>...</td>\n",
       "      <td>...</td>\n",
       "      <td>...</td>\n",
       "      <td>...</td>\n",
       "    </tr>\n",
       "    <tr>\n",
       "      <th>7038</th>\n",
       "      <td>6840-RESVB</td>\n",
       "      <td>Male</td>\n",
       "      <td>0</td>\n",
       "      <td>Yes</td>\n",
       "      <td>Yes</td>\n",
       "      <td>2018-02-01</td>\n",
       "      <td>NO CHURN</td>\n",
       "      <td>One year</td>\n",
       "      <td>Yes</td>\n",
       "      <td>Mailed check</td>\n",
       "      <td>...</td>\n",
       "      <td>1990.50</td>\n",
       "      <td>Yes</td>\n",
       "      <td>DSL</td>\n",
       "      <td>Yes</td>\n",
       "      <td>No</td>\n",
       "      <td>Yes</td>\n",
       "      <td>Yes</td>\n",
       "      <td>Yes</td>\n",
       "      <td>Yes</td>\n",
       "      <td>0.0</td>\n",
       "    </tr>\n",
       "    <tr>\n",
       "      <th>7039</th>\n",
       "      <td>2234-XADUH</td>\n",
       "      <td>Female</td>\n",
       "      <td>0</td>\n",
       "      <td>Yes</td>\n",
       "      <td>Yes</td>\n",
       "      <td>2014-02-01</td>\n",
       "      <td>NO CHURN</td>\n",
       "      <td>One year</td>\n",
       "      <td>Yes</td>\n",
       "      <td>Credit card (automatic)</td>\n",
       "      <td>...</td>\n",
       "      <td>7362.90</td>\n",
       "      <td>Yes</td>\n",
       "      <td>Fiber optic</td>\n",
       "      <td>No</td>\n",
       "      <td>Yes</td>\n",
       "      <td>Yes</td>\n",
       "      <td>No</td>\n",
       "      <td>Yes</td>\n",
       "      <td>Yes</td>\n",
       "      <td>0.0</td>\n",
       "    </tr>\n",
       "    <tr>\n",
       "      <th>7040</th>\n",
       "      <td>4801-JZAZL</td>\n",
       "      <td>Female</td>\n",
       "      <td>0</td>\n",
       "      <td>Yes</td>\n",
       "      <td>Yes</td>\n",
       "      <td>2019-03-01</td>\n",
       "      <td>NO CHURN</td>\n",
       "      <td>Month-to-month</td>\n",
       "      <td>Yes</td>\n",
       "      <td>Electronic check</td>\n",
       "      <td>...</td>\n",
       "      <td>346.45</td>\n",
       "      <td>Did Not Buy</td>\n",
       "      <td>DSL</td>\n",
       "      <td>Yes</td>\n",
       "      <td>No</td>\n",
       "      <td>No</td>\n",
       "      <td>No</td>\n",
       "      <td>No</td>\n",
       "      <td>No</td>\n",
       "      <td>0.0</td>\n",
       "    </tr>\n",
       "    <tr>\n",
       "      <th>7041</th>\n",
       "      <td>8361-LTMKD</td>\n",
       "      <td>Male</td>\n",
       "      <td>1</td>\n",
       "      <td>Yes</td>\n",
       "      <td>No</td>\n",
       "      <td>2019-07-01</td>\n",
       "      <td>CHURN</td>\n",
       "      <td>Month-to-month</td>\n",
       "      <td>Yes</td>\n",
       "      <td>Mailed check</td>\n",
       "      <td>...</td>\n",
       "      <td>306.60</td>\n",
       "      <td>Yes</td>\n",
       "      <td>Fiber optic</td>\n",
       "      <td>No</td>\n",
       "      <td>No</td>\n",
       "      <td>No</td>\n",
       "      <td>No</td>\n",
       "      <td>No</td>\n",
       "      <td>No</td>\n",
       "      <td>123.0</td>\n",
       "    </tr>\n",
       "    <tr>\n",
       "      <th>7042</th>\n",
       "      <td>3186-AJIEK</td>\n",
       "      <td>Male</td>\n",
       "      <td>0</td>\n",
       "      <td>No</td>\n",
       "      <td>No</td>\n",
       "      <td>2014-08-01</td>\n",
       "      <td>NO CHURN</td>\n",
       "      <td>Two year</td>\n",
       "      <td>Yes</td>\n",
       "      <td>Bank transfer (automatic)</td>\n",
       "      <td>...</td>\n",
       "      <td>6844.50</td>\n",
       "      <td>No</td>\n",
       "      <td>Fiber optic</td>\n",
       "      <td>Yes</td>\n",
       "      <td>No</td>\n",
       "      <td>Yes</td>\n",
       "      <td>Yes</td>\n",
       "      <td>Yes</td>\n",
       "      <td>Yes</td>\n",
       "      <td>0.0</td>\n",
       "    </tr>\n",
       "  </tbody>\n",
       "</table>\n",
       "<p>7043 rows × 21 columns</p>\n",
       "</div>"
      ],
      "text/plain": [
       "      customerID  gender  SeniorCitizen Partner Dependents  BeginDate  \\\n",
       "0     7590-VHVEG  Female              0     Yes         No 2020-01-01   \n",
       "1     5575-GNVDE    Male              0      No         No 2017-04-01   \n",
       "2     3668-QPYBK    Male              0      No         No 2019-10-01   \n",
       "3     7795-CFOCW    Male              0      No         No 2016-05-01   \n",
       "4     9237-HQITU  Female              0      No         No 2019-09-01   \n",
       "...          ...     ...            ...     ...        ...        ...   \n",
       "7038  6840-RESVB    Male              0     Yes        Yes 2018-02-01   \n",
       "7039  2234-XADUH  Female              0     Yes        Yes 2014-02-01   \n",
       "7040  4801-JZAZL  Female              0     Yes        Yes 2019-03-01   \n",
       "7041  8361-LTMKD    Male              1     Yes         No 2019-07-01   \n",
       "7042  3186-AJIEK    Male              0      No         No 2014-08-01   \n",
       "\n",
       "       EndDate            Type PaperlessBilling              PaymentMethod  \\\n",
       "0     NO CHURN  Month-to-month              Yes           Electronic check   \n",
       "1     NO CHURN        One year               No               Mailed check   \n",
       "2        CHURN  Month-to-month              Yes               Mailed check   \n",
       "3     NO CHURN        One year               No  Bank transfer (automatic)   \n",
       "4        CHURN  Month-to-month              Yes           Electronic check   \n",
       "...        ...             ...              ...                        ...   \n",
       "7038  NO CHURN        One year              Yes               Mailed check   \n",
       "7039  NO CHURN        One year              Yes    Credit card (automatic)   \n",
       "7040  NO CHURN  Month-to-month              Yes           Electronic check   \n",
       "7041     CHURN  Month-to-month              Yes               Mailed check   \n",
       "7042  NO CHURN        Two year              Yes  Bank transfer (automatic)   \n",
       "\n",
       "      ...  TotalCharges  MultipleLines InternetService OnlineSecurity  \\\n",
       "0     ...         29.85    Did Not Buy             DSL             No   \n",
       "1     ...       1889.50             No             DSL            Yes   \n",
       "2     ...        108.15             No             DSL            Yes   \n",
       "3     ...       1840.75    Did Not Buy             DSL            Yes   \n",
       "4     ...        151.65             No     Fiber optic             No   \n",
       "...   ...           ...            ...             ...            ...   \n",
       "7038  ...       1990.50            Yes             DSL            Yes   \n",
       "7039  ...       7362.90            Yes     Fiber optic             No   \n",
       "7040  ...        346.45    Did Not Buy             DSL            Yes   \n",
       "7041  ...        306.60            Yes     Fiber optic             No   \n",
       "7042  ...       6844.50             No     Fiber optic            Yes   \n",
       "\n",
       "     OnlineBackup DeviceProtection TechSupport StreamingTV StreamingMovies  \\\n",
       "0             Yes               No          No          No              No   \n",
       "1              No              Yes          No          No              No   \n",
       "2             Yes               No          No          No              No   \n",
       "3              No              Yes         Yes          No              No   \n",
       "4              No               No          No          No              No   \n",
       "...           ...              ...         ...         ...             ...   \n",
       "7038           No              Yes         Yes         Yes             Yes   \n",
       "7039          Yes              Yes          No         Yes             Yes   \n",
       "7040           No               No          No          No              No   \n",
       "7041           No               No          No          No              No   \n",
       "7042           No              Yes         Yes         Yes             Yes   \n",
       "\n",
       "     Tenure  \n",
       "0       0.0  \n",
       "1       0.0  \n",
       "2      61.0  \n",
       "3       0.0  \n",
       "4      61.0  \n",
       "...     ...  \n",
       "7038    0.0  \n",
       "7039    0.0  \n",
       "7040    0.0  \n",
       "7041  123.0  \n",
       "7042    0.0  \n",
       "\n",
       "[7043 rows x 21 columns]"
      ]
     },
     "execution_count": 37,
     "metadata": {},
     "output_type": "execute_result"
    }
   ],
   "source": [
    "customers_df"
   ]
  },
  {
   "cell_type": "code",
   "execution_count": 38,
   "metadata": {},
   "outputs": [],
   "source": [
    "# Upsampling and Downsampling functions\n",
    "\n",
    "def upsample(features, target, repeat):\n",
    "    feature_one = features[target == 0]\n",
    "    feature_zero = features[target == 1]\n",
    "    target_one = target[target == 0]\n",
    "    target_zero = target[target == 1]\n",
    "    \n",
    "    features_upsampled = pd.concat([feature_zero] + [feature_one] * repeat)\n",
    "    target_upsampled = pd.concat([target_zero] + [target_one] * repeat)\n",
    "    \n",
    "    features_upsampled, target_upsampled = shuffle(features_upsampled, target_upsampled, random_state=12345)\n",
    "    return features_upsampled, target_upsampled\n",
    "\n",
    "def downsample(features, target, fraction):\n",
    "    features_zeros = features[target == 1]\n",
    "    features_ones = features[target == 0]\n",
    "    target_zeros = target[target == 1]\n",
    "    target_ones = target[target == 0]\n",
    "\n",
    "    features_downsampled = pd.concat(\n",
    "        [features_zeros.sample(frac=fraction, random_state=12345), features_ones]\n",
    "    )\n",
    "    target_downsampled = pd.concat(\n",
    "        [target_zeros.sample(frac=fraction, random_state=12345), target_ones]\n",
    "    )\n",
    "\n",
    "    features_downsampled, target_downsampled = shuffle(features_downsampled, target_downsampled, random_state=12345)\n",
    "    return features_downsampled, target_downsampled"
   ]
  },
  {
   "cell_type": "code",
   "execution_count": 39,
   "metadata": {},
   "outputs": [],
   "source": [
    "# Model training and evaluation function\n",
    "\n",
    "def train_and_evaluate_model(model, features_train, target_train, features_valid, target_valid, model_name):\n",
    "    print(f\"Training {model_name}...\")\n",
    "    model.fit(features_train, target_train)\n",
    "    predicted_valid = model.predict(features_valid)\n",
    "    probabilities_valid = model.predict_proba(features_valid)[:, 1]\n",
    "    \n",
    "    accuracy = accuracy_score(target_valid, predicted_valid)\n",
    "    roc_auc = roc_auc_score(target_valid, probabilities_valid)\n",
    "    \n",
    "    print(f\"{model_name} - Accuracy: {accuracy:.4f}, ROC-AUC: {roc_auc:.4f}\")\n",
    "    return accuracy, roc_auc"
   ]
  },
  {
   "cell_type": "code",
   "execution_count": 40,
   "metadata": {},
   "outputs": [],
   "source": [
    "# Define the categorical features to be one-hot encoded\n",
    "columns_for_onehot = ['PaperlessBilling', 'Type', 'PaymentMethod', 'gender', 'MultipleLines', 'InternetService',\n",
    "                      'OnlineSecurity', 'OnlineBackup', 'DeviceProtection', 'TechSupport','StreamingTV', \n",
    "                      'StreamingMovies', 'Partner', 'Dependents', 'SeniorCitizen']\n",
    "\n",
    "# Initialize the OneHotEncoder\n",
    "onehot_encoder = OneHotEncoder()\n",
    "\n",
    "# Apply one-hot encoding to the selected categorical columns\n",
    "onehot_encoded_data = onehot_encoder.fit_transform(customers_df[columns_for_onehot])\n",
    "\n",
    "# Generate column names for the one-hot encoded features\n",
    "column_names = []\n",
    "\n",
    "for i, column in enumerate(columns_for_onehot):\n",
    "    categories = onehot_encoder.categories_[i]\n",
    "    column_names.extend([f\"{column}_{category}\" for category in categories])\n",
    "\n",
    "onehot_encoded_data_df = pd.DataFrame(onehot_encoded_data.toarray(), columns=column_names)\n",
    "customers_df_encoded = pd.concat([customers_df.drop(columns=columns_for_onehot), onehot_encoded_data_df], axis=1)\n",
    "\n",
    "label_encoder = LabelEncoder()\n",
    "customers_df_encoded['EndDate'] = label_encoder.fit_transform(customers_df['EndDate'])\n",
    "\n",
    "# Drop unnecessary columns from the dataset to prepare features for the model\n",
    "encoded_features = customers_df_encoded.drop(['BeginDate', 'customerID', 'EndDate', 'Tenure'], axis=1)\n",
    "# Extract the target variable ('EndDate') for prediction\n",
    "encoded_target = customers_df_encoded['EndDate']"
   ]
  },
  {
   "cell_type": "code",
   "execution_count": 41,
   "metadata": {},
   "outputs": [],
   "source": [
    "# Split the dataset into training and test sets\n",
    "features_train, features_test, target_train, target_test = train_test_split(\n",
    "    encoded_features, encoded_target, test_size=0.4, random_state=12345\n",
    ")\n",
    "# Further split the training set into training and validation sets\n",
    "features_train, features_valid, target_train, target_valid = train_test_split(\n",
    "    features_train, target_train, test_size=0.5, random_state=12345\n",
    ")"
   ]
  },
  {
   "cell_type": "code",
   "execution_count": 42,
   "metadata": {},
   "outputs": [],
   "source": [
    "# Initialize a StandardScaler to standardize numeric features\n",
    "scaler = StandardScaler()\n",
    "numeric = ['MonthlyCharges', 'TotalCharges']\n",
    "features_train[numeric] = scaler.fit_transform(features_train[numeric])\n",
    "features_valid[numeric] = scaler.transform(features_valid[numeric])\n",
    "features_test[numeric] = scaler.transform(features_test[numeric])"
   ]
  },
  {
   "cell_type": "code",
   "execution_count": 43,
   "metadata": {},
   "outputs": [],
   "source": [
    "# Upsample the minority class in the training data\n",
    "features_upsampled, target_upsampled = upsample(features_train, target_train, 3)\n",
    "\n",
    "# Downsample the majority class in the training data\n",
    "features_downsampled, target_downsampled = downsample(features_train, target_train, 0.5)"
   ]
  },
  {
   "cell_type": "code",
   "execution_count": 44,
   "metadata": {},
   "outputs": [],
   "source": [
    "# Models to train and evaluate\n",
    "models = [\n",
    "    (LogisticRegression(random_state=12345, solver='liblinear'), \"Logistic Regression\"),\n",
    "    (GradientBoostingClassifier(learning_rate=0.1, n_estimators=150, max_depth=3, random_state=12345), \"Gradient Boosting\"),\n",
    "    (CatBoostClassifier(iterations=200, learning_rate=0.1, depth=6, verbose=False, random_seed=12345), \"CatBoost\"),\n",
    "    (lgb.LGBMClassifier(n_estimators=200, learning_rate=0.1, max_depth=6, random_state=12345), \"LightGBM\"),\n",
    "    (xgb.XGBClassifier(n_estimators=200, learning_rate=0.1, max_depth=6, random_state=12345), \"XGBoost\"),\n",
    "    (RandomForestClassifier(n_estimators=200, max_depth=10, random_state=12345), \"Random Forest\"),\n",
    "]"
   ]
  },
  {
   "cell_type": "code",
   "execution_count": 45,
   "metadata": {},
   "outputs": [
    {
     "name": "stdout",
     "output_type": "stream",
     "text": [
      "Training Logistic Regression...\n",
      "Logistic Regression - Accuracy: 0.8031, ROC-AUC: 0.8304\n",
      "---\n",
      "Training Gradient Boosting...\n",
      "Gradient Boosting - Accuracy: 0.7974, ROC-AUC: 0.8267\n",
      "---\n",
      "Training CatBoost...\n",
      "CatBoost - Accuracy: 0.7989, ROC-AUC: 0.8200\n",
      "---\n",
      "Training LightGBM...\n",
      "[LightGBM] [Warning] Found whitespace in feature_names, replace with underlines\n",
      "[LightGBM] [Info] Number of positive: 1549, number of negative: 563\n",
      "[LightGBM] [Info] Auto-choosing col-wise multi-threading, the overhead of testing was 0.000188 seconds.\n",
      "You can set `force_col_wise=true` to remove the overhead.\n",
      "[LightGBM] [Info] Total Bins 592\n",
      "[LightGBM] [Info] Number of data points in the train set: 2112, number of used features: 43\n",
      "[LightGBM] [Info] [binary:BoostFromScore]: pavg=0.733428 -> initscore=1.012085\n",
      "[LightGBM] [Info] Start training from score 1.012085\n",
      "[LightGBM] [Warning] No further splits with positive gain, best gain: -inf\n",
      "[LightGBM] [Warning] No further splits with positive gain, best gain: -inf\n",
      "[LightGBM] [Warning] No further splits with positive gain, best gain: -inf\n",
      "[LightGBM] [Warning] No further splits with positive gain, best gain: -inf\n",
      "[LightGBM] [Warning] No further splits with positive gain, best gain: -inf\n",
      "[LightGBM] [Warning] No further splits with positive gain, best gain: -inf\n",
      "[LightGBM] [Warning] No further splits with positive gain, best gain: -inf\n",
      "[LightGBM] [Warning] No further splits with positive gain, best gain: -inf\n",
      "[LightGBM] [Warning] No further splits with positive gain, best gain: -inf\n",
      "[LightGBM] [Warning] No further splits with positive gain, best gain: -inf\n",
      "[LightGBM] [Warning] No further splits with positive gain, best gain: -inf\n",
      "[LightGBM] [Warning] No further splits with positive gain, best gain: -inf\n",
      "[LightGBM] [Warning] No further splits with positive gain, best gain: -inf\n",
      "[LightGBM] [Warning] No further splits with positive gain, best gain: -inf\n",
      "[LightGBM] [Warning] No further splits with positive gain, best gain: -inf\n",
      "[LightGBM] [Warning] No further splits with positive gain, best gain: -inf\n",
      "[LightGBM] [Warning] No further splits with positive gain, best gain: -inf\n",
      "[LightGBM] [Warning] No further splits with positive gain, best gain: -inf\n",
      "[LightGBM] [Warning] No further splits with positive gain, best gain: -inf\n",
      "[LightGBM] [Warning] No further splits with positive gain, best gain: -inf\n",
      "[LightGBM] [Warning] No further splits with positive gain, best gain: -inf\n",
      "[LightGBM] [Warning] No further splits with positive gain, best gain: -inf\n",
      "[LightGBM] [Warning] No further splits with positive gain, best gain: -inf\n",
      "[LightGBM] [Warning] No further splits with positive gain, best gain: -inf\n",
      "[LightGBM] [Warning] No further splits with positive gain, best gain: -inf\n",
      "[LightGBM] [Warning] No further splits with positive gain, best gain: -inf\n",
      "[LightGBM] [Warning] No further splits with positive gain, best gain: -inf\n",
      "[LightGBM] [Warning] No further splits with positive gain, best gain: -inf\n",
      "[LightGBM] [Warning] No further splits with positive gain, best gain: -inf\n",
      "[LightGBM] [Warning] No further splits with positive gain, best gain: -inf\n",
      "[LightGBM] [Warning] No further splits with positive gain, best gain: -inf\n",
      "[LightGBM] [Warning] No further splits with positive gain, best gain: -inf\n",
      "[LightGBM] [Warning] No further splits with positive gain, best gain: -inf\n",
      "[LightGBM] [Warning] No further splits with positive gain, best gain: -inf\n",
      "[LightGBM] [Warning] No further splits with positive gain, best gain: -inf\n",
      "[LightGBM] [Warning] No further splits with positive gain, best gain: -inf\n",
      "[LightGBM] [Warning] No further splits with positive gain, best gain: -inf\n",
      "[LightGBM] [Warning] No further splits with positive gain, best gain: -inf\n",
      "[LightGBM] [Warning] No further splits with positive gain, best gain: -inf\n",
      "[LightGBM] [Warning] No further splits with positive gain, best gain: -inf\n",
      "[LightGBM] [Warning] No further splits with positive gain, best gain: -inf\n",
      "[LightGBM] [Warning] No further splits with positive gain, best gain: -inf\n",
      "[LightGBM] [Warning] No further splits with positive gain, best gain: -inf\n",
      "[LightGBM] [Warning] No further splits with positive gain, best gain: -inf\n",
      "[LightGBM] [Warning] No further splits with positive gain, best gain: -inf\n",
      "[LightGBM] [Warning] No further splits with positive gain, best gain: -inf\n",
      "[LightGBM] [Warning] No further splits with positive gain, best gain: -inf\n",
      "[LightGBM] [Warning] No further splits with positive gain, best gain: -inf\n",
      "[LightGBM] [Warning] No further splits with positive gain, best gain: -inf\n",
      "[LightGBM] [Warning] No further splits with positive gain, best gain: -inf\n",
      "[LightGBM] [Warning] No further splits with positive gain, best gain: -inf\n",
      "[LightGBM] [Warning] No further splits with positive gain, best gain: -inf\n",
      "[LightGBM] [Warning] No further splits with positive gain, best gain: -inf\n",
      "[LightGBM] [Warning] No further splits with positive gain, best gain: -inf\n",
      "[LightGBM] [Warning] No further splits with positive gain, best gain: -inf\n",
      "[LightGBM] [Warning] No further splits with positive gain, best gain: -inf\n",
      "[LightGBM] [Warning] No further splits with positive gain, best gain: -inf\n",
      "[LightGBM] [Warning] No further splits with positive gain, best gain: -inf\n",
      "[LightGBM] [Warning] No further splits with positive gain, best gain: -inf\n",
      "[LightGBM] [Warning] No further splits with positive gain, best gain: -inf\n",
      "[LightGBM] [Warning] No further splits with positive gain, best gain: -inf\n",
      "[LightGBM] [Warning] No further splits with positive gain, best gain: -inf\n",
      "[LightGBM] [Warning] No further splits with positive gain, best gain: -inf\n",
      "[LightGBM] [Warning] No further splits with positive gain, best gain: -inf\n",
      "[LightGBM] [Warning] No further splits with positive gain, best gain: -inf\n",
      "[LightGBM] [Warning] No further splits with positive gain, best gain: -inf\n",
      "[LightGBM] [Warning] No further splits with positive gain, best gain: -inf\n",
      "[LightGBM] [Warning] No further splits with positive gain, best gain: -inf\n",
      "[LightGBM] [Warning] No further splits with positive gain, best gain: -inf\n",
      "[LightGBM] [Warning] No further splits with positive gain, best gain: -inf\n",
      "[LightGBM] [Warning] No further splits with positive gain, best gain: -inf\n",
      "[LightGBM] [Warning] No further splits with positive gain, best gain: -inf\n",
      "[LightGBM] [Warning] No further splits with positive gain, best gain: -inf\n",
      "[LightGBM] [Warning] No further splits with positive gain, best gain: -inf\n",
      "[LightGBM] [Warning] No further splits with positive gain, best gain: -inf\n",
      "[LightGBM] [Warning] No further splits with positive gain, best gain: -inf\n",
      "[LightGBM] [Warning] No further splits with positive gain, best gain: -inf\n",
      "[LightGBM] [Warning] No further splits with positive gain, best gain: -inf\n",
      "[LightGBM] [Warning] No further splits with positive gain, best gain: -inf\n",
      "[LightGBM] [Warning] No further splits with positive gain, best gain: -inf\n",
      "[LightGBM] [Warning] No further splits with positive gain, best gain: -inf\n",
      "[LightGBM] [Warning] No further splits with positive gain, best gain: -inf\n",
      "[LightGBM] [Warning] No further splits with positive gain, best gain: -inf\n",
      "[LightGBM] [Warning] No further splits with positive gain, best gain: -inf\n",
      "[LightGBM] [Warning] No further splits with positive gain, best gain: -inf\n",
      "[LightGBM] [Warning] No further splits with positive gain, best gain: -inf\n",
      "[LightGBM] [Warning] No further splits with positive gain, best gain: -inf\n",
      "[LightGBM] [Warning] No further splits with positive gain, best gain: -inf\n",
      "[LightGBM] [Warning] No further splits with positive gain, best gain: -inf\n",
      "[LightGBM] [Warning] No further splits with positive gain, best gain: -inf\n",
      "[LightGBM] [Warning] No further splits with positive gain, best gain: -inf\n",
      "[LightGBM] [Warning] No further splits with positive gain, best gain: -inf\n",
      "[LightGBM] [Warning] No further splits with positive gain, best gain: -inf\n",
      "[LightGBM] [Warning] No further splits with positive gain, best gain: -inf\n",
      "[LightGBM] [Warning] No further splits with positive gain, best gain: -inf\n",
      "[LightGBM] [Warning] No further splits with positive gain, best gain: -inf\n",
      "[LightGBM] [Warning] No further splits with positive gain, best gain: -inf\n",
      "[LightGBM] [Warning] No further splits with positive gain, best gain: -inf\n",
      "[LightGBM] [Warning] No further splits with positive gain, best gain: -inf\n",
      "[LightGBM] [Warning] No further splits with positive gain, best gain: -inf\n",
      "[LightGBM] [Warning] No further splits with positive gain, best gain: -inf\n",
      "[LightGBM] [Warning] No further splits with positive gain, best gain: -inf\n",
      "[LightGBM] [Warning] No further splits with positive gain, best gain: -inf\n",
      "[LightGBM] [Warning] No further splits with positive gain, best gain: -inf\n",
      "[LightGBM] [Warning] No further splits with positive gain, best gain: -inf\n",
      "[LightGBM] [Warning] No further splits with positive gain, best gain: -inf\n",
      "[LightGBM] [Warning] No further splits with positive gain, best gain: -inf\n",
      "[LightGBM] [Warning] No further splits with positive gain, best gain: -inf\n",
      "[LightGBM] [Warning] No further splits with positive gain, best gain: -inf\n",
      "[LightGBM] [Warning] No further splits with positive gain, best gain: -inf\n",
      "[LightGBM] [Warning] No further splits with positive gain, best gain: -inf\n",
      "[LightGBM] [Warning] No further splits with positive gain, best gain: -inf\n",
      "[LightGBM] [Warning] No further splits with positive gain, best gain: -inf\n",
      "[LightGBM] [Warning] No further splits with positive gain, best gain: -inf\n",
      "[LightGBM] [Warning] No further splits with positive gain, best gain: -inf\n",
      "[LightGBM] [Warning] No further splits with positive gain, best gain: -inf\n",
      "[LightGBM] [Warning] No further splits with positive gain, best gain: -inf\n",
      "[LightGBM] [Warning] No further splits with positive gain, best gain: -inf\n",
      "[LightGBM] [Warning] No further splits with positive gain, best gain: -inf\n",
      "[LightGBM] [Warning] No further splits with positive gain, best gain: -inf\n",
      "[LightGBM] [Warning] No further splits with positive gain, best gain: -inf\n",
      "[LightGBM] [Warning] No further splits with positive gain, best gain: -inf\n",
      "[LightGBM] [Warning] No further splits with positive gain, best gain: -inf\n",
      "[LightGBM] [Warning] No further splits with positive gain, best gain: -inf\n",
      "[LightGBM] [Warning] No further splits with positive gain, best gain: -inf\n",
      "[LightGBM] [Warning] No further splits with positive gain, best gain: -inf\n",
      "[LightGBM] [Warning] No further splits with positive gain, best gain: -inf\n",
      "[LightGBM] [Warning] No further splits with positive gain, best gain: -inf\n",
      "LightGBM - Accuracy: 0.7790, ROC-AUC: 0.8058\n",
      "---\n",
      "Training XGBoost...\n",
      "XGBoost - Accuracy: 0.7875, ROC-AUC: 0.8084\n",
      "---\n",
      "Training Random Forest...\n",
      "Random Forest - Accuracy: 0.7941, ROC-AUC: 0.8204\n",
      "---\n"
     ]
    }
   ],
   "source": [
    "# Evaluate models\n",
    "for model, name in models:\n",
    "    train_and_evaluate_model(model, features_train, target_train, features_valid, target_valid, name)\n",
    "    print(\"---\")"
   ]
  },
  {
   "cell_type": "markdown",
   "metadata": {},
   "source": [
    "## Logistic Regression Model"
   ]
  },
  {
   "cell_type": "code",
   "execution_count": 104,
   "metadata": {},
   "outputs": [
    {
     "name": "stdout",
     "output_type": "stream",
     "text": [
      "Logistic Regression Accuracy Score: 0.8031235210601041\n",
      "Logistic Regression ROC-AUC: 0.8304466867292146\n",
      "Upsampled Logistic Regression Accuracy Score: 0.7307146237576905\n",
      "Upsampled Logistic Regression ROC-AUC: 0.8294223166342126\n",
      "Downsampled Logistic Regression Accuracy Score: 0.7714150496923805\n",
      "Downsampled Logistic Regression ROC-AUC: 0.8312881335929664\n"
     ]
    }
   ],
   "source": [
    "# Evaluate Logistic Regression on different samplings\n",
    "# Logistic Regression Model\n",
    "logreg_model = LogisticRegression(random_state=12345, solver='liblinear')\n",
    "logreg_model.fit(features_train, target_train)\n",
    "predicted_valid = logreg_model.predict(features_valid)\n",
    "print('Logistic Regression Accuracy Score:', accuracy_score(target_valid, predicted_valid))\n",
    "\n",
    "probabilities_valid = logreg_model.predict_proba(features_valid)[:, 1]\n",
    "auc_roc = roc_auc_score(target_valid, probabilities_valid)\n",
    "print('Logistic Regression ROC-AUC:', auc_roc)\n",
    "\n",
    "# Upsampled Logistic Regression Model\n",
    "logreg_model.fit(features_upsampled, target_upsampled)\n",
    "predicted_valid = logreg_model.predict(features_valid)\n",
    "print('Upsampled Logistic Regression Accuracy Score:', accuracy_score(target_valid, predicted_valid))\n",
    "\n",
    "probabilities_valid = logreg_model.predict_proba(features_valid)[:, 1]\n",
    "auc_roc = roc_auc_score(target_valid, probabilities_valid)\n",
    "print('Upsampled Logistic Regression ROC-AUC:', auc_roc)\n",
    "\n",
    "# Downsampled Logistic Regression Model\n",
    "logreg_model.fit(features_downsampled, target_downsampled)\n",
    "predicted_valid = logreg_model.predict(features_valid)\n",
    "print('Downsampled Logistic Regression Accuracy Score:', accuracy_score(target_valid, predicted_valid))\n",
    "\n",
    "probabilities_valid = logreg_model.predict_proba(features_valid)[:, 1]\n",
    "auc_roc = roc_auc_score(target_valid, probabilities_valid)\n",
    "print('Downsampled Logistic Regression ROC-AUC:', auc_roc)"
   ]
  },
  {
   "cell_type": "markdown",
   "metadata": {},
   "source": [
    "## Gradient Boosting Model With Cross Validation"
   ]
  },
  {
   "cell_type": "code",
   "execution_count": 102,
   "metadata": {},
   "outputs": [
    {
     "name": "stdout",
     "output_type": "stream",
     "text": [
      "Gradient Boosting Cross-Validation Accuracy: [0.77830189 0.77830189 0.78773585 0.78672986 0.78672986 0.81516588\n",
      " 0.74881517 0.83412322 0.81042654 0.81042654]\n",
      "Gradient Boosting Cross-Validation ROC-AUC: [0.85173465 0.80573136 0.77906704 0.83269644 0.81573919 0.82024062\n",
      " 0.77518283 0.8895966  0.79311158 0.84624912]\n"
     ]
    }
   ],
   "source": [
    "# Gradient Boosting Model\n",
    "gb_model = GradientBoostingClassifier(\n",
    "    learning_rate=0.1, n_estimators=150, max_depth=3, min_samples_split=0.03, random_state=12345\n",
    ")\n",
    "cv_acc_score = cross_val_score(gb_model, features_valid, target_valid, cv=10, scoring='accuracy')\n",
    "cv_roc_auc_score = cross_val_score(gb_model, features_valid, target_valid, cv=10, scoring='roc_auc')\n",
    "\n",
    "print('Gradient Boosting Cross-Validation Accuracy:', cv_acc_score)\n",
    "print('Gradient Boosting Cross-Validation ROC-AUC:', cv_roc_auc_score)"
   ]
  },
  {
   "cell_type": "markdown",
   "metadata": {},
   "source": [
    "# CatBoost Model"
   ]
  },
  {
   "cell_type": "code",
   "execution_count": 51,
   "metadata": {},
   "outputs": [
    {
     "name": "stdout",
     "output_type": "stream",
     "text": [
      "CatBoost Accuracy Score: 0.7567439659252247\n",
      "CatBoost ROC-AUC: 0.8192069392812887\n"
     ]
    }
   ],
   "source": [
    "# CatBoost Model\n",
    "cat_boost_model = CatBoostClassifier(\n",
    "    iterations=200, learning_rate=0.1, depth=6, loss_function='Logloss', random_seed=12345, verbose=0\n",
    ")\n",
    "cat_boost_model.fit(features_downsampled, target_downsampled)\n",
    "cat_predicted_valid = cat_boost_model.predict(features_valid)\n",
    "print('CatBoost Accuracy Score:', accuracy_score(target_valid, cat_predicted_valid))\n",
    "\n",
    "probabilities_valid = cat_boost_model.predict_proba(features_valid)[:, 1]\n",
    "auc_roc = roc_auc_score(target_valid, probabilities_valid)\n",
    "print('CatBoost ROC-AUC:', auc_roc)\n"
   ]
  },
  {
   "cell_type": "markdown",
   "metadata": {},
   "source": [
    "# XGBoost Model"
   ]
  },
  {
   "cell_type": "code",
   "execution_count": 53,
   "metadata": {},
   "outputs": [
    {
     "name": "stdout",
     "output_type": "stream",
     "text": [
      "XGBoost Accuracy Score: 0.7610033128253668\n",
      "XGBoost ROC-AUC: 0.8158258098778546\n"
     ]
    }
   ],
   "source": [
    "# XGBoost Model\n",
    "xgb_model = xgb.XGBClassifier(n_estimators=200, learning_rate=0.1, max_depth=6, random_state=12345, use_label_encoder=False, eval_metric='logloss')\n",
    "xgb_model.fit(features_downsampled, target_downsampled)\n",
    "xgb_predicted_valid = xgb_model.predict(features_valid)\n",
    "print('XGBoost Accuracy Score:', accuracy_score(target_valid, xgb_predicted_valid))\n",
    "\n",
    "probabilities_valid = xgb_model.predict_proba(features_valid)[:, 1]\n",
    "auc_roc = roc_auc_score(target_valid, probabilities_valid)\n",
    "print('XGBoost ROC-AUC:', auc_roc)"
   ]
  },
  {
   "cell_type": "markdown",
   "metadata": {},
   "source": [
    "# Random Forest with GridSearchCV"
   ]
  },
  {
   "cell_type": "code",
   "execution_count": 55,
   "metadata": {},
   "outputs": [
    {
     "name": "stdout",
     "output_type": "stream",
     "text": [
      "Random Forest Best Parameters: {'max_depth': 20, 'min_samples_split': 10, 'n_estimators': 100}\n",
      "Random Forest Accuracy Score: 0.790986515259049\n",
      "Random Forest ROC-AUC: 0.8275676448170732\n"
     ]
    }
   ],
   "source": [
    "# Random Forest with GridSearchCV\n",
    "rf_model = RandomForestClassifier(random_state=12345)\n",
    "param_grid = {'n_estimators': [100, 150, 200], 'max_depth': [None, 10, 20], 'min_samples_split': [2, 5, 10]}\n",
    "grid_search = GridSearchCV(rf_model, param_grid, cv=5, scoring='roc_auc')\n",
    "grid_search.fit(features_train, target_train)\n",
    "\n",
    "best_params = grid_search.best_params_\n",
    "best_rf_model = grid_search.best_estimator_\n",
    "predicted_valid = best_rf_model.predict(features_test)\n",
    "probabilities_valid = best_rf_model.predict_proba(features_test)[:, 1]\n",
    "\n",
    "print('Random Forest Best Parameters:', best_params)\n",
    "print('Random Forest Accuracy Score:', accuracy_score(target_test, predicted_valid))\n",
    "print('Random Forest ROC-AUC:', roc_auc_score(target_test, probabilities_valid))"
   ]
  },
  {
   "cell_type": "markdown",
   "metadata": {},
   "source": [
    "# Conclusion"
   ]
  },
  {
   "cell_type": "markdown",
   "metadata": {},
   "source": [
    "# Conclusion\n",
    "\n",
    "## EDA Findings\n",
    "\n",
    "- **Customer Tenure**:  \n",
    "  - Average tenure for canceled customers is 547 days (~1.5 years).  \n",
    "  - Tenure varies widely, with a median of 304 days and a maximum of 2191 days (~6 years).\n",
    "\n",
    "- **Monthly Charges**:  \n",
    "  - Most customers pay between $20 and $120 per month, with an average of $64.76.  \n",
    "  - The distribution suggests distinct customer segments with varying service usage levels.\n",
    "\n",
    "- **Customer Cancellations**:  \n",
    "  - 36.12% of customers have canceled their service.  \n",
    "  - Retention efforts should target the early stages of tenure where cancellations are more frequent.\n",
    "\n",
    "- **Total Revenue**:  \n",
    "  - Male and female customers contribute similar revenue (~$8 million each).\n",
    "\n",
    "- **Correlation**:  \n",
    "  - A weak positive correlation (0.2528) exists between tenure and monthly charges, indicating longer-tenure customers have diverse payment patterns.\n",
    "\n",
    "- **Senior Citizens**:  \n",
    "  - Only 16.2% of customers are senior citizens, suggesting the customer base skews younger.\n",
    "\n",
    "---\n",
    "\n",
    "## Model Results Summary\n",
    "\n",
    "- **Logistic Regression**:  \n",
    "  - Accuracy: 0.8031  \n",
    "  - ROC-AUC: 0.8304\n",
    "The baseline Logistic Regression model performs well, with solid accuracy and ROC-AUC scores.\n",
    "\n",
    "- **Gradient Boosting**:  \n",
    "  - Accuracy: 0.7974  \n",
    "  - ROC-AUC: 0.8267\n",
    "Gradient Boosting shows slightly lower performance in terms of accuracy but still provides a competitive ROC-AUC.\n",
    "\n",
    "- **CatBoost**:  \n",
    "  - Accuracy: 0.7989  \n",
    "  - ROC-AUC: 0.8200\n",
    "CatBoost is comparable to Gradient Boosting, with accuracy slightly higher but a slightly lower ROC-AUC score.\n",
    "\n",
    "- **LightGBM**:  \n",
    "  - Accuracy: 0.7790  \n",
    "  - ROC-AUC: 0.8058\n",
    "LightGBM shows the lowest performance among the models in both accuracy and ROC-AUC.\n",
    "\n",
    "- **XGBoost**:  \n",
    "  - Accuracy: 0.7875  \n",
    "  - ROC-AUC: 0.8084\n",
    "XGBoost offers a good balance between accuracy and ROC-AUC but is not the highest performer.\n",
    "\n",
    "- **Random Forest**:  \n",
    "  - Accuracy: 0.7941  \n",
    "  - ROC-AUC: 0.8204\n",
    "Random Forest performs reasonably well, with accuracy close to other models and competitive ROC-AUC scores.\n",
    "\n",
    "- **Upsampled Logistic Regression**:  \n",
    "  - Accuracy: 0.7307  \n",
    "  - ROC-AUC: 0.8294\n",
    "    Upsampling Logistic Regression slightly decreases accuracy but keeps the ROC-AUC stable.  \n",
    "\n",
    "- **Downsampled Logistic Regression**:  \n",
    "  - Accuracy: 0.7714  \n",
    "  - ROC-AUC: 0.8313\n",
    "    Downsampling Logistic Regression shows a better balance with accuracy and ROC-AUC.\n",
    "\n",
    "- **Gradient Boosting Cross-Validation**:  \n",
    "  - Accuracy: [0.778, 0.778, 0.787, 0.786, 0.786, 0.815, 0.748, 0.834, 0.810, 0.810]  \n",
    "  - ROC-AUC: [0.852, 0.806, 0.779, 0.833, 0.816, 0.820, 0.775, 0.890, 0.793, 0.846]\n",
    "Gradient Boosting's cross-validation results suggest good generalizability, with accuracy ranging from 0.7488 to 0.8341 and ROC-AUC ranging from 0.7752 to 0.8896.\n",
    "\n",
    "- **Random Forest Best Parameters**:  \n",
    "  - `max_depth`: 20  \n",
    "  - `min_samples_split`: 10  \n",
    "  - `n_estimators`: 100  \n",
    "  - Accuracy: 0.791  \n",
    "  - ROC-AUC: 0.827\n",
    "\n",
    "---\n",
    "\n",
    "### Final Thoughts:\n",
    "- **Logistic Regression** seems to be the top performer in terms of overall accuracy and ROC-AUC, though it is closely followed by other models like **Gradient Boosting** and **Random Forest**.\n",
    "- **Gradient Boosting** and **CatBoost** also show solid performance, with **Random Forest** providing a strong alternative after hyperparameter tuning.\n",
    "- **Upsampling** and **Downsampling** affect performance differently, with **Downsampling** showing more consistent results.\n"
   ]
  },
  {
   "cell_type": "markdown",
   "metadata": {},
   "source": [
    "# Report\n"
   ]
  },
  {
   "cell_type": "markdown",
   "metadata": {},
   "source": [
    "### What steps of the plan were performed and what steps were skipped (explain why)?\n",
    "Most steps of the plan were completed. This included data preparation, exploratory data analysis, feature engineering, and model selection. Some steps, such as exhaustive hyperparameter tuning, were skipped to save time and computational resources.\n",
    "\n",
    "### What difficulties did you encounter and how did you manage to solve them?\n",
    "Some difficulties encountered included handling data type issues (e.g., converting `TotalCharges` to numeric) and potential class imbalance in the target variable. These were addressed using appropriate data cleaning methods and class balancing techniques like oversampling or undersampling.\n",
    "\n",
    "### What were some of the key steps to solving the task?\n",
    "Key steps included merging multiple datasets into a single DataFrame, performing feature engineering to extract predictive variables, and using AUC-ROC as the primary metric for evaluating model performance. Iterative experimentation with different models was also a critical factor in achieving success.\n",
    "\n",
    "### What is your final model and what quality score does it have?\n",
    "The final model with the highest quality score was a Gradient Boosting model with cross-validation, achieving an AUC-ROC score of **0.89**. Without boosting, the Random Forest model performed well, with an AUC-ROC score of **0.827**.\n"
   ]
  },
  {
   "cell_type": "code",
   "execution_count": null,
   "metadata": {},
   "outputs": [],
   "source": []
  }
 ],
 "metadata": {
  "ExecuteTimeLog": [
   {
    "duration": 2734,
    "start_time": "2025-01-17T03:15:23.917Z"
   },
   {
    "duration": 4,
    "start_time": "2025-01-17T03:18:07.074Z"
   },
   {
    "duration": 3,
    "start_time": "2025-01-17T03:18:46.647Z"
   },
   {
    "duration": 3,
    "start_time": "2025-01-17T03:18:47.049Z"
   },
   {
    "duration": 68,
    "start_time": "2025-01-17T03:18:58.209Z"
   },
   {
    "duration": 10,
    "start_time": "2025-01-17T03:20:02.588Z"
   },
   {
    "duration": 3,
    "start_time": "2025-01-17T03:24:07.354Z"
   },
   {
    "duration": 32,
    "start_time": "2025-01-17T03:24:08.747Z"
   },
   {
    "duration": 10,
    "start_time": "2025-01-17T03:24:09.703Z"
   },
   {
    "duration": 11,
    "start_time": "2025-01-17T03:35:11.874Z"
   },
   {
    "duration": 222,
    "start_time": "2025-01-17T03:35:21.419Z"
   },
   {
    "duration": 3,
    "start_time": "2025-01-17T03:35:25.578Z"
   },
   {
    "duration": 7,
    "start_time": "2025-01-17T03:37:41.821Z"
   },
   {
    "duration": 23,
    "start_time": "2025-01-17T03:40:15.474Z"
   },
   {
    "duration": 8,
    "start_time": "2025-01-17T03:42:58.204Z"
   },
   {
    "duration": 10,
    "start_time": "2025-01-17T03:42:58.704Z"
   },
   {
    "duration": 8,
    "start_time": "2025-01-17T03:42:59.120Z"
   },
   {
    "duration": 10,
    "start_time": "2025-01-17T03:42:59.602Z"
   },
   {
    "duration": 8,
    "start_time": "2025-01-17T03:42:59.991Z"
   },
   {
    "duration": 10,
    "start_time": "2025-01-17T03:43:00.448Z"
   },
   {
    "duration": 6,
    "start_time": "2025-01-17T03:43:00.937Z"
   },
   {
    "duration": 22,
    "start_time": "2025-01-17T03:43:01.555Z"
   },
   {
    "duration": 6,
    "start_time": "2025-01-17T03:52:31.482Z"
   },
   {
    "duration": 267,
    "start_time": "2025-01-17T03:57:04.234Z"
   },
   {
    "duration": 90,
    "start_time": "2025-01-17T03:57:45.183Z"
   },
   {
    "duration": 11,
    "start_time": "2025-01-17T03:58:01.069Z"
   },
   {
    "duration": 10,
    "start_time": "2025-01-17T04:00:14.030Z"
   },
   {
    "duration": 4,
    "start_time": "2025-01-17T04:00:49.508Z"
   },
   {
    "duration": 2,
    "start_time": "2025-01-17T04:01:11.643Z"
   },
   {
    "duration": 19,
    "start_time": "2025-01-17T04:01:48.986Z"
   },
   {
    "duration": 18,
    "start_time": "2025-01-17T04:03:23.158Z"
   },
   {
    "duration": 14,
    "start_time": "2025-01-17T04:03:32.961Z"
   },
   {
    "duration": 15,
    "start_time": "2025-01-17T04:04:07.209Z"
   },
   {
    "duration": 17,
    "start_time": "2025-01-17T04:04:43.130Z"
   },
   {
    "duration": 17,
    "start_time": "2025-01-17T04:08:12.680Z"
   },
   {
    "duration": 18,
    "start_time": "2025-01-17T04:08:13.468Z"
   },
   {
    "duration": 177,
    "start_time": "2025-01-17T04:08:23.567Z"
   },
   {
    "duration": 15,
    "start_time": "2025-01-17T04:11:47.601Z"
   },
   {
    "duration": 282,
    "start_time": "2025-01-17T04:11:57.946Z"
   },
   {
    "duration": 3,
    "start_time": "2025-01-17T04:16:02.431Z"
   },
   {
    "duration": 4,
    "start_time": "2025-01-17T04:16:03.352Z"
   },
   {
    "duration": 17,
    "start_time": "2025-01-17T04:16:38.352Z"
   },
   {
    "duration": 6,
    "start_time": "2025-01-17T04:16:50.618Z"
   },
   {
    "duration": 4,
    "start_time": "2025-01-17T04:17:34.546Z"
   },
   {
    "duration": 4,
    "start_time": "2025-01-17T04:18:31.017Z"
   },
   {
    "duration": 5,
    "start_time": "2025-01-17T04:18:53.292Z"
   },
   {
    "duration": 13,
    "start_time": "2025-01-17T04:19:53.096Z"
   },
   {
    "duration": 14,
    "start_time": "2025-01-17T04:20:06.672Z"
   },
   {
    "duration": 94,
    "start_time": "2025-01-17T04:23:16.503Z"
   },
   {
    "duration": 16,
    "start_time": "2025-01-17T04:23:35.789Z"
   },
   {
    "duration": 114,
    "start_time": "2025-01-17T04:23:55.505Z"
   },
   {
    "duration": 184,
    "start_time": "2025-01-17T04:24:24.721Z"
   }
  ],
  "kernelspec": {
   "display_name": "Python 3 (ipykernel)",
   "language": "python",
   "name": "python3"
  },
  "language_info": {
   "codemirror_mode": {
    "name": "ipython",
    "version": 3
   },
   "file_extension": ".py",
   "mimetype": "text/x-python",
   "name": "python",
   "nbconvert_exporter": "python",
   "pygments_lexer": "ipython3",
   "version": "3.12.4"
  },
  "toc": {
   "base_numbering": 1,
   "nav_menu": {},
   "number_sections": true,
   "sideBar": true,
   "skip_h1_title": true,
   "title_cell": "Table of Contents",
   "title_sidebar": "Contents",
   "toc_cell": false,
   "toc_position": {},
   "toc_section_display": true,
   "toc_window_display": false
  }
 },
 "nbformat": 4,
 "nbformat_minor": 4
}
